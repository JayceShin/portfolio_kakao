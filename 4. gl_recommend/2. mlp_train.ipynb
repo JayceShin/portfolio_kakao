{
  "cells": [
    {
      "cell_type": "code",
      "source": [
        "import numpy as np\r\n",
        "import pandas as pd\r\n",
        "import seaborn as sns\r\n",
        "from tqdm.notebook import tqdm\r\n",
        "import matplotlib.pyplot as plt\r\n",
        "\r\n",
        "import torch\r\n",
        "import torch.nn as nn\r\n",
        "import torch.optim as optim\r\n",
        "from torch.utils.data import Dataset, DataLoader, WeightedRandomSampler\r\n",
        "\r\n",
        "from sklearn.preprocessing import MinMaxScaler    \r\n",
        "from sklearn.model_selection import train_test_split\r\n",
        "from sklearn.metrics import confusion_matrix, classification_report"
      ],
      "outputs": [],
      "execution_count": 1,
      "metadata": {
        "gather": {
          "logged": 1632548677809
        }
      }
    },
    {
      "cell_type": "code",
      "source": [
        "df = pd.read_csv('./data/pre_data.csv')\r\n",
        "df"
      ],
      "outputs": [
        {
          "output_type": "execute_result",
          "execution_count": 2,
          "data": {
            "text/plain": "              0         1  2  3  4    5    6    7    8    9  ...  338  339  \\\n0      0.214297  0.236965  4  2  3  0.0  0.0  0.0  0.0  0.0  ...  0.0  0.0   \n1      2.449873  2.551062  6  0  1  0.0  0.0  0.0  0.0  0.0  ...  0.0  0.0   \n2      0.248730  0.272536  4  2  3  0.0  0.0  0.0  0.0  0.0  ...  0.0  0.0   \n3     -0.093402 -0.081406  0  1  1  0.0  0.0  0.0  0.0  0.0  ...  0.0  0.0   \n4      0.298192  0.324030  3  1  1  0.0  1.0  0.0  0.0  0.0  ...  0.0  0.0   \n...         ...       ... .. .. ..  ...  ...  ...  ...  ...  ...  ...  ...   \n37209 -0.289216 -0.283953  2  2  2  0.0  0.0  0.0  0.0  0.0  ...  0.0  1.0   \n37210 -0.301264 -0.296447  1  2  1  0.0  0.0  0.0  0.0  0.0  ...  0.0  1.0   \n37211 -0.298253 -0.293311  0  2  1  0.0  0.0  0.0  0.0  0.0  ...  0.0  1.0   \n37212 -0.301264 -0.296447  0  2  1  0.0  0.0  0.0  0.0  0.0  ...  0.0  1.0   \n37213 -0.295238 -0.290224  3  1  1  0.0  0.0  0.0  0.0  0.0  ...  0.0  1.0   \n\n       340  341  342  343  344  345  346  0.1  \n0      0.0  0.0  0.0  0.0  0.0  1.0  0.0    4  \n1      0.0  0.0  0.0  0.0  0.0  1.0  0.0    4  \n2      0.0  0.0  0.0  0.0  0.0  1.0  0.0    4  \n3      0.0  0.0  0.0  0.0  0.0  1.0  0.0    1  \n4      0.0  0.0  0.0  0.0  0.0  1.0  0.0    4  \n...    ...  ...  ...  ...  ...  ...  ...  ...  \n37209  0.0  0.0  0.0  0.0  0.0  0.0  0.0   12  \n37210  0.0  0.0  0.0  0.0  0.0  0.0  0.0   12  \n37211  0.0  0.0  0.0  0.0  0.0  0.0  0.0   12  \n37212  0.0  0.0  0.0  0.0  0.0  0.0  0.0   12  \n37213  0.0  0.0  0.0  0.0  0.0  0.0  0.0   12  \n\n[37214 rows x 348 columns]",
            "text/html": "<div>\n<style scoped>\n    .dataframe tbody tr th:only-of-type {\n        vertical-align: middle;\n    }\n\n    .dataframe tbody tr th {\n        vertical-align: top;\n    }\n\n    .dataframe thead th {\n        text-align: right;\n    }\n</style>\n<table border=\"1\" class=\"dataframe\">\n  <thead>\n    <tr style=\"text-align: right;\">\n      <th></th>\n      <th>0</th>\n      <th>1</th>\n      <th>2</th>\n      <th>3</th>\n      <th>4</th>\n      <th>5</th>\n      <th>6</th>\n      <th>7</th>\n      <th>8</th>\n      <th>9</th>\n      <th>...</th>\n      <th>338</th>\n      <th>339</th>\n      <th>340</th>\n      <th>341</th>\n      <th>342</th>\n      <th>343</th>\n      <th>344</th>\n      <th>345</th>\n      <th>346</th>\n      <th>0.1</th>\n    </tr>\n  </thead>\n  <tbody>\n    <tr>\n      <th>0</th>\n      <td>0.214297</td>\n      <td>0.236965</td>\n      <td>4</td>\n      <td>2</td>\n      <td>3</td>\n      <td>0.0</td>\n      <td>0.0</td>\n      <td>0.0</td>\n      <td>0.0</td>\n      <td>0.0</td>\n      <td>...</td>\n      <td>0.0</td>\n      <td>0.0</td>\n      <td>0.0</td>\n      <td>0.0</td>\n      <td>0.0</td>\n      <td>0.0</td>\n      <td>0.0</td>\n      <td>1.0</td>\n      <td>0.0</td>\n      <td>4</td>\n    </tr>\n    <tr>\n      <th>1</th>\n      <td>2.449873</td>\n      <td>2.551062</td>\n      <td>6</td>\n      <td>0</td>\n      <td>1</td>\n      <td>0.0</td>\n      <td>0.0</td>\n      <td>0.0</td>\n      <td>0.0</td>\n      <td>0.0</td>\n      <td>...</td>\n      <td>0.0</td>\n      <td>0.0</td>\n      <td>0.0</td>\n      <td>0.0</td>\n      <td>0.0</td>\n      <td>0.0</td>\n      <td>0.0</td>\n      <td>1.0</td>\n      <td>0.0</td>\n      <td>4</td>\n    </tr>\n    <tr>\n      <th>2</th>\n      <td>0.248730</td>\n      <td>0.272536</td>\n      <td>4</td>\n      <td>2</td>\n      <td>3</td>\n      <td>0.0</td>\n      <td>0.0</td>\n      <td>0.0</td>\n      <td>0.0</td>\n      <td>0.0</td>\n      <td>...</td>\n      <td>0.0</td>\n      <td>0.0</td>\n      <td>0.0</td>\n      <td>0.0</td>\n      <td>0.0</td>\n      <td>0.0</td>\n      <td>0.0</td>\n      <td>1.0</td>\n      <td>0.0</td>\n      <td>4</td>\n    </tr>\n    <tr>\n      <th>3</th>\n      <td>-0.093402</td>\n      <td>-0.081406</td>\n      <td>0</td>\n      <td>1</td>\n      <td>1</td>\n      <td>0.0</td>\n      <td>0.0</td>\n      <td>0.0</td>\n      <td>0.0</td>\n      <td>0.0</td>\n      <td>...</td>\n      <td>0.0</td>\n      <td>0.0</td>\n      <td>0.0</td>\n      <td>0.0</td>\n      <td>0.0</td>\n      <td>0.0</td>\n      <td>0.0</td>\n      <td>1.0</td>\n      <td>0.0</td>\n      <td>1</td>\n    </tr>\n    <tr>\n      <th>4</th>\n      <td>0.298192</td>\n      <td>0.324030</td>\n      <td>3</td>\n      <td>1</td>\n      <td>1</td>\n      <td>0.0</td>\n      <td>1.0</td>\n      <td>0.0</td>\n      <td>0.0</td>\n      <td>0.0</td>\n      <td>...</td>\n      <td>0.0</td>\n      <td>0.0</td>\n      <td>0.0</td>\n      <td>0.0</td>\n      <td>0.0</td>\n      <td>0.0</td>\n      <td>0.0</td>\n      <td>1.0</td>\n      <td>0.0</td>\n      <td>4</td>\n    </tr>\n    <tr>\n      <th>...</th>\n      <td>...</td>\n      <td>...</td>\n      <td>...</td>\n      <td>...</td>\n      <td>...</td>\n      <td>...</td>\n      <td>...</td>\n      <td>...</td>\n      <td>...</td>\n      <td>...</td>\n      <td>...</td>\n      <td>...</td>\n      <td>...</td>\n      <td>...</td>\n      <td>...</td>\n      <td>...</td>\n      <td>...</td>\n      <td>...</td>\n      <td>...</td>\n      <td>...</td>\n      <td>...</td>\n    </tr>\n    <tr>\n      <th>37209</th>\n      <td>-0.289216</td>\n      <td>-0.283953</td>\n      <td>2</td>\n      <td>2</td>\n      <td>2</td>\n      <td>0.0</td>\n      <td>0.0</td>\n      <td>0.0</td>\n      <td>0.0</td>\n      <td>0.0</td>\n      <td>...</td>\n      <td>0.0</td>\n      <td>1.0</td>\n      <td>0.0</td>\n      <td>0.0</td>\n      <td>0.0</td>\n      <td>0.0</td>\n      <td>0.0</td>\n      <td>0.0</td>\n      <td>0.0</td>\n      <td>12</td>\n    </tr>\n    <tr>\n      <th>37210</th>\n      <td>-0.301264</td>\n      <td>-0.296447</td>\n      <td>1</td>\n      <td>2</td>\n      <td>1</td>\n      <td>0.0</td>\n      <td>0.0</td>\n      <td>0.0</td>\n      <td>0.0</td>\n      <td>0.0</td>\n      <td>...</td>\n      <td>0.0</td>\n      <td>1.0</td>\n      <td>0.0</td>\n      <td>0.0</td>\n      <td>0.0</td>\n      <td>0.0</td>\n      <td>0.0</td>\n      <td>0.0</td>\n      <td>0.0</td>\n      <td>12</td>\n    </tr>\n    <tr>\n      <th>37211</th>\n      <td>-0.298253</td>\n      <td>-0.293311</td>\n      <td>0</td>\n      <td>2</td>\n      <td>1</td>\n      <td>0.0</td>\n      <td>0.0</td>\n      <td>0.0</td>\n      <td>0.0</td>\n      <td>0.0</td>\n      <td>...</td>\n      <td>0.0</td>\n      <td>1.0</td>\n      <td>0.0</td>\n      <td>0.0</td>\n      <td>0.0</td>\n      <td>0.0</td>\n      <td>0.0</td>\n      <td>0.0</td>\n      <td>0.0</td>\n      <td>12</td>\n    </tr>\n    <tr>\n      <th>37212</th>\n      <td>-0.301264</td>\n      <td>-0.296447</td>\n      <td>0</td>\n      <td>2</td>\n      <td>1</td>\n      <td>0.0</td>\n      <td>0.0</td>\n      <td>0.0</td>\n      <td>0.0</td>\n      <td>0.0</td>\n      <td>...</td>\n      <td>0.0</td>\n      <td>1.0</td>\n      <td>0.0</td>\n      <td>0.0</td>\n      <td>0.0</td>\n      <td>0.0</td>\n      <td>0.0</td>\n      <td>0.0</td>\n      <td>0.0</td>\n      <td>12</td>\n    </tr>\n    <tr>\n      <th>37213</th>\n      <td>-0.295238</td>\n      <td>-0.290224</td>\n      <td>3</td>\n      <td>1</td>\n      <td>1</td>\n      <td>0.0</td>\n      <td>0.0</td>\n      <td>0.0</td>\n      <td>0.0</td>\n      <td>0.0</td>\n      <td>...</td>\n      <td>0.0</td>\n      <td>1.0</td>\n      <td>0.0</td>\n      <td>0.0</td>\n      <td>0.0</td>\n      <td>0.0</td>\n      <td>0.0</td>\n      <td>0.0</td>\n      <td>0.0</td>\n      <td>12</td>\n    </tr>\n  </tbody>\n</table>\n<p>37214 rows × 348 columns</p>\n</div>"
          },
          "metadata": {}
        }
      ],
      "execution_count": 2,
      "metadata": {
        "jupyter": {
          "source_hidden": false,
          "outputs_hidden": false
        },
        "nteract": {
          "transient": {
            "deleting": false
          }
        },
        "gather": {
          "logged": 1632548706029
        }
      }
    },
    {
      "cell_type": "code",
      "source": [
        "sns.countplot(x = '0.1', data=df)"
      ],
      "outputs": [
        {
          "output_type": "execute_result",
          "execution_count": 4,
          "data": {
            "text/plain": "<AxesSubplot:xlabel='0.1', ylabel='count'>"
          },
          "metadata": {}
        },
        {
          "output_type": "display_data",
          "data": {
            "text/plain": "<Figure size 432x288 with 1 Axes>",
            "image/png": "[encoded data removed]"
          },
          "metadata": {
            "needs_background": "light"
          }
        }
      ],
      "execution_count": 4,
      "metadata": {
        "jupyter": {
          "source_hidden": false,
          "outputs_hidden": false
        },
        "nteract": {
          "transient": {
            "deleting": false
          }
        },
        "gather": {
          "logged": 1632548737843
        }
      }
    },
    {
      "cell_type": "code",
      "source": [
        "X = df.iloc[:, 0:-1]\r\n",
        "y = df.iloc[:, -1]"
      ],
      "outputs": [],
      "execution_count": 5,
      "metadata": {
        "jupyter": {
          "source_hidden": false,
          "outputs_hidden": false
        },
        "nteract": {
          "transient": {
            "deleting": false
          }
        },
        "gather": {
          "logged": 1632548765990
        }
      }
    },
    {
      "cell_type": "code",
      "source": [
        "# Split into train+val and test\r\n",
        "X_trainval, X_test, y_trainval, y_test = train_test_split(X, y, test_size=0.2, stratify=y, random_state=69)\r\n",
        "\r\n",
        "# Split train into train-val\r\n",
        "X_train, X_val, y_train, y_val = train_test_split(X_trainval, y_trainval, test_size=0.1, stratify=y_trainval, random_state=21)"
      ],
      "outputs": [],
      "execution_count": 6,
      "metadata": {
        "jupyter": {
          "source_hidden": false,
          "outputs_hidden": false
        },
        "nteract": {
          "transient": {
            "deleting": false
          }
        },
        "gather": {
          "logged": 1632548781907
        }
      }
    },
    {
      "cell_type": "code",
      "source": [
        "scaler = MinMaxScaler()\r\n",
        "X_train = scaler.fit_transform(X_train)\r\n",
        "X_val = scaler.transform(X_val)\r\n",
        "X_test = scaler.transform(X_test)\r\n",
        "X_train, y_train = np.array(X_train), np.array(y_train)\r\n",
        "X_val, y_val = np.array(X_val), np.array(y_val)\r\n",
        "X_test, y_test = np.array(X_test), np.array(y_test)"
      ],
      "outputs": [],
      "execution_count": 7,
      "metadata": {
        "jupyter": {
          "source_hidden": false,
          "outputs_hidden": false
        },
        "nteract": {
          "transient": {
            "deleting": false
          }
        },
        "gather": {
          "logged": 1632548819834
        }
      }
    },
    {
      "cell_type": "code",
      "source": [
        "def get_class_distribution(obj):\r\n",
        "    count_dict = {\r\n",
        "        \"rating_0\": 0,\r\n",
        "        \"rating_1\": 0,\r\n",
        "        \"rating_2\": 0,\r\n",
        "        \"rating_3\": 0,\r\n",
        "        \"rating_4\": 0,\r\n",
        "        \"rating_5\": 0,\r\n",
        "        \"rating_6\": 0,\r\n",
        "        \"rating_7\": 0,\r\n",
        "        \"rating_8\": 0,\r\n",
        "        \"rating_9\": 0,\r\n",
        "        \"rating_10\": 0,\r\n",
        "        \"rating_11\": 0,\r\n",
        "        \"rating_12\": 0,\r\n",
        "    }\r\n",
        "    \r\n",
        "    for i in obj:\r\n",
        "        if i == 0: \r\n",
        "            count_dict['rating_0'] += 1\r\n",
        "        elif i == 1: \r\n",
        "            count_dict['rating_1'] += 1\r\n",
        "        elif i == 2: \r\n",
        "            count_dict['rating_2'] += 1\r\n",
        "        elif i == 3: \r\n",
        "            count_dict['rating_3'] += 1\r\n",
        "        elif i == 4: \r\n",
        "            count_dict['rating_4'] += 1  \r\n",
        "        elif i == 5: \r\n",
        "            count_dict['rating_5'] += 1\r\n",
        "        elif i == 6: \r\n",
        "            count_dict['rating_6'] += 1\r\n",
        "        elif i == 7: \r\n",
        "            count_dict['rating_7'] += 1\r\n",
        "        elif i == 8: \r\n",
        "            count_dict['rating_8'] += 1\r\n",
        "        elif i == 9: \r\n",
        "            count_dict['rating_9'] += 1\r\n",
        "        elif i == 10: \r\n",
        "            count_dict['rating_10'] += 1\r\n",
        "        elif i == 11: \r\n",
        "            count_dict['rating_11'] += 1\r\n",
        "        elif i == 12: \r\n",
        "            count_dict['rating_12'] += 1\r\n",
        "        else:\r\n",
        "            print(\"Check classes.\")\r\n",
        "            \r\n",
        "    return count_dict"
      ],
      "outputs": [],
      "execution_count": 16,
      "metadata": {
        "jupyter": {
          "source_hidden": false,
          "outputs_hidden": false
        },
        "nteract": {
          "transient": {
            "deleting": false
          }
        },
        "gather": {
          "logged": 1632549091593
        }
      }
    },
    {
      "cell_type": "code",
      "source": [
        "fig, axes = plt.subplots(nrows=1, ncols=3, figsize=(25,7))\r\n",
        "# Train\r\n",
        "sns.barplot(data = pd.DataFrame.from_dict([get_class_distribution(y_train)]).melt(), x = \"variable\", y=\"value\", hue=\"variable\",  ax=axes[0]).set_title('Class Distribution in Train Set')\r\n",
        "# Validation\r\n",
        "sns.barplot(data = pd.DataFrame.from_dict([get_class_distribution(y_val)]).melt(), x = \"variable\", y=\"value\", hue=\"variable\",  ax=axes[1]).set_title('Class Distribution in Val Set')\r\n",
        "# Test\r\n",
        "sns.barplot(data = pd.DataFrame.from_dict([get_class_distribution(y_test)]).melt(), x = \"variable\", y=\"value\", hue=\"variable\",  ax=axes[2]).set_title('Class Distribution in Test Set')"
      ],
      "outputs": [
        {
          "output_type": "execute_result",
          "execution_count": 17,
          "data": {
            "text/plain": "Text(0.5, 1.0, 'Class Distribution in Test Set')"
          },
          "metadata": {}
        },
        {
          "output_type": "display_data",
          "data": {
            "text/plain": "<Figure size 1800x504 with 3 Axes>",
            "image/png": "[encoded data removed]"
          },
          "metadata": {
            "needs_background": "light"
          }
        }
      ],
      "execution_count": 17,
      "metadata": {
        "jupyter": {
          "source_hidden": false,
          "outputs_hidden": false
        },
        "nteract": {
          "transient": {
            "deleting": false
          }
        },
        "gather": {
          "logged": 1632549098958
        }
      }
    },
    {
      "cell_type": "code",
      "source": [
        "class ClassifierDataset(Dataset):\r\n",
        "    \r\n",
        "    def __init__(self, X_data, y_data):\r\n",
        "        self.X_data = X_data\r\n",
        "        self.y_data = y_data\r\n",
        "        \r\n",
        "    def __getitem__(self, index):\r\n",
        "        return self.X_data[index], self.y_data[index]\r\n",
        "        \r\n",
        "    def __len__ (self):\r\n",
        "        return len(self.X_data)\r\n",
        "\r\n",
        "\r\n",
        "train_dataset = ClassifierDataset(torch.from_numpy(X_train).float(), torch.from_numpy(y_train).long())\r\n",
        "val_dataset = ClassifierDataset(torch.from_numpy(X_val).float(), torch.from_numpy(y_val).long())\r\n",
        "test_dataset = ClassifierDataset(torch.from_numpy(X_test).float(), torch.from_numpy(y_test).long())"
      ],
      "outputs": [],
      "execution_count": 10,
      "metadata": {
        "jupyter": {
          "source_hidden": false,
          "outputs_hidden": false
        },
        "nteract": {
          "transient": {
            "deleting": false
          }
        },
        "gather": {
          "logged": 1632548885942
        }
      }
    },
    {
      "cell_type": "code",
      "source": [
        "target_list = []\r\n",
        "for _, t in train_dataset:\r\n",
        "    target_list.append(t)\r\n",
        "    \r\n",
        "target_list = torch.tensor(target_list)\r\n",
        "target_list = target_list[torch.randperm(len(target_list))]"
      ],
      "outputs": [],
      "execution_count": 11,
      "metadata": {
        "jupyter": {
          "source_hidden": false,
          "outputs_hidden": false
        },
        "nteract": {
          "transient": {
            "deleting": false
          }
        },
        "gather": {
          "logged": 1632548893285
        }
      }
    },
    {
      "cell_type": "code",
      "source": [
        "class_count = [i for i in get_class_distribution(y_train).values()]\r\n",
        "class_weights = 1./torch.tensor(class_count, dtype=torch.float) \r\n",
        "print(class_weights)"
      ],
      "outputs": [
        {
          "output_type": "stream",
          "name": "stdout",
          "text": "tensor([0.0001, 0.0001, 0.0097, 0.0083, 0.0010, 0.0007, 0.0036, 0.0034, 0.0004,\n        0.0003, 0.0012, 0.0016, 0.0020])\n"
        }
      ],
      "execution_count": 18,
      "metadata": {
        "jupyter": {
          "source_hidden": false,
          "outputs_hidden": false
        },
        "nteract": {
          "transient": {
            "deleting": false
          }
        },
        "gather": {
          "logged": 1632549120987
        }
      }
    },
    {
      "cell_type": "code",
      "source": [
        "class_weights_all = class_weights[target_list]"
      ],
      "outputs": [],
      "execution_count": 19,
      "metadata": {
        "jupyter": {
          "source_hidden": false,
          "outputs_hidden": false
        },
        "nteract": {
          "transient": {
            "deleting": false
          }
        },
        "gather": {
          "logged": 1632549146696
        }
      }
    },
    {
      "cell_type": "code",
      "source": [
        "weighted_sampler = WeightedRandomSampler(\r\n",
        "    weights=class_weights_all,\r\n",
        "    num_samples=len(class_weights_all),\r\n",
        "    replacement=True\r\n",
        ")"
      ],
      "outputs": [],
      "execution_count": 20,
      "metadata": {
        "jupyter": {
          "source_hidden": false,
          "outputs_hidden": false
        },
        "nteract": {
          "transient": {
            "deleting": false
          }
        },
        "gather": {
          "logged": 1632549152826
        }
      }
    },
    {
      "cell_type": "code",
      "source": [
        "EPOCHS = 50\r\n",
        "BATCH_SIZE = 64\r\n",
        "LEARNING_RATE = 0.001\r\n",
        "NUM_FEATURES = len(X.columns)\r\n",
        "NUM_CLASSES = 13"
      ],
      "outputs": [],
      "execution_count": 29,
      "metadata": {
        "jupyter": {
          "source_hidden": false,
          "outputs_hidden": false
        },
        "nteract": {
          "transient": {
            "deleting": false
          }
        },
        "gather": {
          "logged": 1632549294921
        }
      }
    },
    {
      "cell_type": "code",
      "source": [
        "train_loader = DataLoader(dataset=train_dataset,\r\n",
        "                          batch_size=BATCH_SIZE,\r\n",
        "                          sampler=weighted_sampler\r\n",
        ")\r\n",
        "val_loader = DataLoader(dataset=val_dataset, batch_size=1)\r\n",
        "test_loader = DataLoader(dataset=test_dataset, batch_size=1)"
      ],
      "outputs": [],
      "execution_count": 30,
      "metadata": {
        "jupyter": {
          "source_hidden": false,
          "outputs_hidden": false
        },
        "nteract": {
          "transient": {
            "deleting": false
          }
        },
        "gather": {
          "logged": 1632549299813
        }
      }
    },
    {
      "cell_type": "code",
      "source": [
        "class MulticlassClassification(nn.Module):\r\n",
        "    def __init__(self, num_feature, num_class):\r\n",
        "        super(MulticlassClassification, self).__init__()\r\n",
        "        \r\n",
        "        self.layer_1 = nn.Linear(num_feature, 512)\r\n",
        "        self.layer_2 = nn.Linear(512, 128)\r\n",
        "        self.layer_3 = nn.Linear(128, 64)\r\n",
        "        self.layer_out = nn.Linear(64, num_class) \r\n",
        "        \r\n",
        "        self.relu = nn.ReLU()\r\n",
        "        self.dropout = nn.Dropout(p=0.2)\r\n",
        "        self.batchnorm1 = nn.BatchNorm1d(512)\r\n",
        "        self.batchnorm2 = nn.BatchNorm1d(128)\r\n",
        "        self.batchnorm3 = nn.BatchNorm1d(64)\r\n",
        "        \r\n",
        "    def forward(self, x):\r\n",
        "        x = self.layer_1(x)\r\n",
        "        x = self.batchnorm1(x)\r\n",
        "        x = self.relu(x)\r\n",
        "        \r\n",
        "        x = self.layer_2(x)\r\n",
        "        x = self.batchnorm2(x)\r\n",
        "        x = self.relu(x)\r\n",
        "        x = self.dropout(x)\r\n",
        "        \r\n",
        "        x = self.layer_3(x)\r\n",
        "        x = self.batchnorm3(x)\r\n",
        "        x = self.relu(x)\r\n",
        "        x = self.dropout(x)\r\n",
        "        \r\n",
        "        x = self.layer_out(x)\r\n",
        "        \r\n",
        "        return x"
      ],
      "outputs": [],
      "execution_count": 31,
      "metadata": {
        "jupyter": {
          "source_hidden": false,
          "outputs_hidden": false
        },
        "nteract": {
          "transient": {
            "deleting": false
          }
        },
        "gather": {
          "logged": 1632549305942
        }
      }
    },
    {
      "cell_type": "code",
      "source": [
        "device = torch.device(\"cuda:0\" if torch.cuda.is_available() else \"cpu\")\r\n",
        "print(device)"
      ],
      "outputs": [
        {
          "output_type": "stream",
          "name": "stdout",
          "text": "cpu\n"
        }
      ],
      "execution_count": 32,
      "metadata": {
        "jupyter": {
          "source_hidden": false,
          "outputs_hidden": false
        },
        "nteract": {
          "transient": {
            "deleting": false
          }
        },
        "gather": {
          "logged": 1632549308408
        }
      }
    },
    {
      "cell_type": "code",
      "source": [
        "model = MulticlassClassification(num_feature = NUM_FEATURES, num_class=NUM_CLASSES)\r\n",
        "model.to(device)\r\n",
        "\r\n",
        "criterion = nn.CrossEntropyLoss(weight=class_weights.to(device))\r\n",
        "optimizer = optim.Adam(model.parameters(), lr=LEARNING_RATE)\r\n",
        "print(model)"
      ],
      "outputs": [
        {
          "output_type": "stream",
          "name": "stdout",
          "text": "MulticlassClassification(\n  (layer_1): Linear(in_features=347, out_features=512, bias=True)\n  (layer_2): Linear(in_features=512, out_features=128, bias=True)\n  (layer_3): Linear(in_features=128, out_features=64, bias=True)\n  (layer_out): Linear(in_features=64, out_features=13, bias=True)\n  (relu): ReLU()\n  (dropout): Dropout(p=0.2, inplace=False)\n  (batchnorm1): BatchNorm1d(512, eps=1e-05, momentum=0.1, affine=True, track_running_stats=True)\n  (batchnorm2): BatchNorm1d(128, eps=1e-05, momentum=0.1, affine=True, track_running_stats=True)\n  (batchnorm3): BatchNorm1d(64, eps=1e-05, momentum=0.1, affine=True, track_running_stats=True)\n)\n"
        }
      ],
      "execution_count": 33,
      "metadata": {
        "jupyter": {
          "source_hidden": false,
          "outputs_hidden": false
        },
        "nteract": {
          "transient": {
            "deleting": false
          }
        },
        "gather": {
          "logged": 1632549310878
        }
      }
    },
    {
      "cell_type": "code",
      "source": [
        "def multi_acc(y_pred, y_test):\r\n",
        "    y_pred_softmax = torch.log_softmax(y_pred, dim = 1)\r\n",
        "    _, y_pred_tags = torch.max(y_pred_softmax, dim = 1)    \r\n",
        "    \r\n",
        "    correct_pred = (y_pred_tags == y_test).float()\r\n",
        "    acc = correct_pred.sum() / len(correct_pred)\r\n",
        "    \r\n",
        "    acc = torch.round(acc * 100)\r\n",
        "    \r\n",
        "    return acc"
      ],
      "outputs": [],
      "execution_count": 34,
      "metadata": {
        "jupyter": {
          "source_hidden": false,
          "outputs_hidden": false
        },
        "nteract": {
          "transient": {
            "deleting": false
          }
        },
        "gather": {
          "logged": 1632549315788
        }
      }
    },
    {
      "cell_type": "code",
      "source": [
        "accuracy_stats = {\r\n",
        "    'train': [],\r\n",
        "    \"val\": []\r\n",
        "}\r\n",
        "loss_stats = {\r\n",
        "    'train': [],\r\n",
        "    \"val\": []\r\n",
        "}"
      ],
      "outputs": [],
      "execution_count": 35,
      "metadata": {
        "jupyter": {
          "source_hidden": false,
          "outputs_hidden": false
        },
        "nteract": {
          "transient": {
            "deleting": false
          }
        },
        "gather": {
          "logged": 1632549319458
        }
      }
    },
    {
      "cell_type": "code",
      "source": [
        "print(\"Begin training.\")\r\n",
        "for e in tqdm(range(1, EPOCHS+1)):\r\n",
        "    \r\n",
        "    # TRAINING\r\n",
        "    train_epoch_loss = 0\r\n",
        "    train_epoch_acc = 0\r\n",
        "    model.train()\r\n",
        "    for X_train_batch, y_train_batch in train_loader:\r\n",
        "        X_train_batch, y_train_batch = X_train_batch.to(device), y_train_batch.to(device)\r\n",
        "        optimizer.zero_grad()\r\n",
        "        \r\n",
        "        y_train_pred = model(X_train_batch)\r\n",
        "        \r\n",
        "        train_loss = criterion(y_train_pred, y_train_batch)\r\n",
        "        train_acc = multi_acc(y_train_pred, y_train_batch)\r\n",
        "        \r\n",
        "        train_loss.backward()\r\n",
        "        optimizer.step()\r\n",
        "        \r\n",
        "        train_epoch_loss += train_loss.item()\r\n",
        "        train_epoch_acc += train_acc.item()\r\n",
        "        \r\n",
        "        \r\n",
        "    # VALIDATION    \r\n",
        "    with torch.no_grad():\r\n",
        "        \r\n",
        "        val_epoch_loss = 0\r\n",
        "        val_epoch_acc = 0\r\n",
        "        \r\n",
        "        model.eval()\r\n",
        "        for X_val_batch, y_val_batch in val_loader:\r\n",
        "            X_val_batch, y_val_batch = X_val_batch.to(device), y_val_batch.to(device)\r\n",
        "            \r\n",
        "            y_val_pred = model(X_val_batch)\r\n",
        "                        \r\n",
        "            val_loss = criterion(y_val_pred, y_val_batch)\r\n",
        "            val_acc = multi_acc(y_val_pred, y_val_batch)\r\n",
        "            \r\n",
        "            val_epoch_loss += val_loss.item()\r\n",
        "            val_epoch_acc += val_acc.item()\r\n",
        "\r\n",
        "    loss_stats['train'].append(train_epoch_loss/len(train_loader))\r\n",
        "    loss_stats['val'].append(val_epoch_loss/len(val_loader))\r\n",
        "    accuracy_stats['train'].append(train_epoch_acc/len(train_loader))\r\n",
        "    accuracy_stats['val'].append(val_epoch_acc/len(val_loader))\r\n",
        "                              \r\n",
        "    print(f'Epoch {e+0:03}: | Train Loss: {train_epoch_loss/len(train_loader):.5f} | Val Loss: {val_epoch_loss/len(val_loader):.5f} | Train Acc: {train_epoch_acc/len(train_loader):.3f}| Val Acc: {val_epoch_acc/len(val_loader):.3f}')"
      ],
      "outputs": [
        {
          "output_type": "stream",
          "name": "stdout",
          "text": "Begin training.\n"
        },
        {
          "output_type": "display_data",
          "data": {
            "text/plain": "  0%|          | 0/50 [00:00<?, ?it/s]",
            "application/vnd.jupyter.widget-view+json": {
              "version_major": 2,
              "version_minor": 0,
              "model_id": "bdc4ff07f0f1430eaf2ac34e295db6ca"
            }
          },
          "metadata": {}
        },
        {
          "output_type": "stream",
          "name": "stdout",
          "text": "Epoch 001: | Train Loss: 1.32942 | Val Loss: 1.35784 | Train Acc: 44.453| Val Acc: 51.108\nEpoch 002: | Train Loss: 0.92375 | Val Loss: 1.30876 | Train Acc: 53.081| Val Acc: 51.209\nEpoch 003: | Train Loss: 0.81130 | Val Loss: 1.26301 | Train Acc: 55.661| Val Acc: 53.627\nEpoch 004: | Train Loss: 0.81318 | Val Loss: 1.25907 | Train Acc: 56.360| Val Acc: 52.821\nEpoch 005: | Train Loss: 0.75339 | Val Loss: 1.30334 | Train Acc: 58.895| Val Acc: 50.907\nEpoch 006: | Train Loss: 0.74657 | Val Loss: 1.26114 | Train Acc: 58.835| Val Acc: 53.257\nEpoch 007: | Train Loss: 0.73266 | Val Loss: 1.26335 | Train Acc: 59.451| Val Acc: 52.888\nEpoch 008: | Train Loss: 0.67196 | Val Loss: 1.19724 | Train Acc: 60.857| Val Acc: 55.205\nEpoch 009: | Train Loss: 0.66104 | Val Loss: 1.26160 | Train Acc: 61.547| Val Acc: 54.063\nEpoch 010: | Train Loss: 0.66087 | Val Loss: 1.23904 | Train Acc: 62.105| Val Acc: 55.473\nEpoch 011: | Train Loss: 0.65796 | Val Loss: 1.19029 | Train Acc: 62.387| Val Acc: 55.507\nEpoch 012: | Train Loss: 0.62219 | Val Loss: 1.16361 | Train Acc: 63.007| Val Acc: 56.380\nEpoch 013: | Train Loss: 0.62342 | Val Loss: 1.19359 | Train Acc: 63.095| Val Acc: 55.574\nEpoch 014: | Train Loss: 0.60125 | Val Loss: 1.18745 | Train Acc: 63.496| Val Acc: 55.440\nEpoch 015: | Train Loss: 0.62535 | Val Loss: 1.20712 | Train Acc: 63.597| Val Acc: 54.231\nEpoch 016: | Train Loss: 0.62467 | Val Loss: 1.20343 | Train Acc: 62.990| Val Acc: 55.541\nEpoch 017: | Train Loss: 0.59389 | Val Loss: 1.22382 | Train Acc: 64.458| Val Acc: 55.641\nEpoch 018: | Train Loss: 0.60002 | Val Loss: 1.19855 | Train Acc: 64.348| Val Acc: 55.608\nEpoch 019: | Train Loss: 0.60366 | Val Loss: 1.19964 | Train Acc: 64.122| Val Acc: 55.541\nEpoch 020: | Train Loss: 0.58339 | Val Loss: 1.16669 | Train Acc: 65.148| Val Acc: 55.977\nEpoch 021: | Train Loss: 0.55649 | Val Loss: 1.20120 | Train Acc: 65.179| Val Acc: 55.574\nEpoch 022: | Train Loss: 0.53957 | Val Loss: 1.18124 | Train Acc: 66.064| Val Acc: 56.380\nEpoch 023: | Train Loss: 0.56423 | Val Loss: 1.18981 | Train Acc: 65.831| Val Acc: 54.466\nEpoch 024: | Train Loss: 0.53842 | Val Loss: 1.15260 | Train Acc: 66.246| Val Acc: 57.522\nEpoch 025: | Train Loss: 0.54355 | Val Loss: 1.14488 | Train Acc: 65.718| Val Acc: 57.858\nEpoch 026: | Train Loss: 0.53071 | Val Loss: 1.20223 | Train Acc: 66.778| Val Acc: 55.507\nEpoch 027: | Train Loss: 0.54510 | Val Loss: 1.15241 | Train Acc: 66.606| Val Acc: 57.220\nEpoch 028: | Train Loss: 0.54103 | Val Loss: 1.18197 | Train Acc: 66.520| Val Acc: 56.246\nEpoch 029: | Train Loss: 0.52583 | Val Loss: 1.13320 | Train Acc: 67.320| Val Acc: 57.354\nEpoch 030: | Train Loss: 0.51299 | Val Loss: 1.20545 | Train Acc: 67.652| Val Acc: 57.152\nEpoch 031: | Train Loss: 0.51824 | Val Loss: 1.16783 | Train Acc: 67.535| Val Acc: 56.985\nEpoch 032: | Train Loss: 0.51639 | Val Loss: 1.18195 | Train Acc: 67.721| Val Acc: 56.817\nEpoch 033: | Train Loss: 0.52407 | Val Loss: 1.20639 | Train Acc: 67.766| Val Acc: 56.111\nEpoch 034: | Train Loss: 0.50685 | Val Loss: 1.16710 | Train Acc: 67.632| Val Acc: 56.347\nEpoch 035: | Train Loss: 0.50557 | Val Loss: 1.16973 | Train Acc: 68.296| Val Acc: 57.186\nEpoch 036: | Train Loss: 0.49330 | Val Loss: 1.16743 | Train Acc: 68.365| Val Acc: 57.925\nEpoch 037: | Train Loss: 0.48672 | Val Loss: 1.19961 | Train Acc: 68.585| Val Acc: 57.421\nEpoch 038: | Train Loss: 0.50683 | Val Loss: 1.22276 | Train Acc: 68.010| Val Acc: 56.414\nEpoch 039: | Train Loss: 0.48993 | Val Loss: 1.20879 | Train Acc: 68.255| Val Acc: 55.776\nEpoch 040: | Train Loss: 0.48201 | Val Loss: 1.20526 | Train Acc: 69.031| Val Acc: 56.649\nEpoch 041: | Train Loss: 0.48811 | Val Loss: 1.17103 | Train Acc: 69.103| Val Acc: 57.555\nEpoch 042: | Train Loss: 0.47064 | Val Loss: 1.16885 | Train Acc: 69.014| Val Acc: 57.589\nEpoch 043: | Train Loss: 0.47842 | Val Loss: 1.16814 | Train Acc: 69.585| Val Acc: 58.160\nEpoch 044: | Train Loss: 0.47798 | Val Loss: 1.17239 | Train Acc: 69.277| Val Acc: 58.227\nEpoch 045: | Train Loss: 0.47783 | Val Loss: 1.18587 | Train Acc: 69.745| Val Acc: 57.320\nEpoch 046: | Train Loss: 0.46732 | Val Loss: 1.20665 | Train Acc: 68.988| Val Acc: 57.354\nEpoch 047: | Train Loss: 0.47875 | Val Loss: 1.16162 | Train Acc: 69.391| Val Acc: 57.790\nEpoch 048: | Train Loss: 0.47251 | Val Loss: 1.17448 | Train Acc: 69.955| Val Acc: 58.126\nEpoch 049: | Train Loss: 0.46147 | Val Loss: 1.18009 | Train Acc: 70.208| Val Acc: 57.522\nEpoch 050: | Train Loss: 0.44682 | Val Loss: 1.19420 | Train Acc: 70.594| Val Acc: 58.093\n"
        }
      ],
      "execution_count": 36,
      "metadata": {
        "jupyter": {
          "source_hidden": false,
          "outputs_hidden": false
        },
        "nteract": {
          "transient": {
            "deleting": false
          }
        },
        "gather": {
          "logged": 1632551199351
        }
      }
    },
    {
      "cell_type": "code",
      "source": [
        "# Create dataframes\r\n",
        "train_val_acc_df = pd.DataFrame.from_dict(accuracy_stats).reset_index().melt(id_vars=['index']).rename(columns={\"index\":t\"epochs\"})\r\n",
        "train_val_loss_df = pd.DataFrame.from_dict(loss_stats).reset_index().melt(id_vars=['index']).rename(columns={\"index\":\"epochs\"})\r\n",
        "# Plot the dataframes\r\n",
        "fig, axes = plt.subplots(nrows=1, ncols=2, figsize=(20,7))\r\n",
        "sns.lineplot(data=train_val_acc_df, x = \"epochs\", y=\"value\", hue=\"variable\",  ax=axes[0]).set_title('Train-Val Accuracy/Epoch')\r\n",
        "sns.lineplot(data=train_val_loss_df, x = \"epochs\", y=\"value\", hue=\"variable\", ax=axes[1]).set_title('Train-Val Loss/Epoch')"
      ],
      "outputs": [
        {
          "output_type": "execute_result",
          "execution_count": 37,
          "data": {
            "text/plain": "Text(0.5, 1.0, 'Train-Val Loss/Epoch')"
          },
          "metadata": {}
        },
        {
          "output_type": "display_data",
          "data": {
            "text/plain": "<Figure size 1440x504 with 2 Axes>",
            "image/png": "[encoded data removed]"
          },
          "metadata": {
            "needs_background": "light"
          }
        }
      ],
      "execution_count": 37,
      "metadata": {
        "jupyter": {
          "source_hidden": false,
          "outputs_hidden": false
        },
        "nteract": {
          "transient": {
            "deleting": false
          }
        },
        "gather": {
          "logged": 1632551216474
        }
      }
    },
    {
      "cell_type": "code",
      "source": [
        "y_pred_list = []\r\n",
        "with torch.no_grad():\r\n",
        "    model.eval()\r\n",
        "    for X_batch, _ in test_loader:\r\n",
        "        X_batch = X_batch.to(device)\r\n",
        "        y_test_pred = model(X_batch)\r\n",
        "        _, y_pred_tags = torch.max(y_test_pred, dim = 1)\r\n",
        "        y_pred_list.append(y_pred_tags.cpu().numpy())\r\n",
        "y_pred_list = [a.squeeze().tolist() for a in y_pred_list]"
      ],
      "outputs": [],
      "execution_count": 38,
      "metadata": {
        "jupyter": {
          "source_hidden": false,
          "outputs_hidden": false
        },
        "nteract": {
          "transient": {
            "deleting": false
          }
        },
        "gather": {
          "logged": 1632551217715
        }
      }
    },
    {
      "cell_type": "code",
      "source": [
        "print(classification_report(y_test, y_pred_list))"
      ],
      "outputs": [
        {
          "output_type": "stream",
          "name": "stdout",
          "text": "              precision    recall  f1-score   support\n\n           0       0.71      0.49      0.58      2353\n           1       0.71      0.54      0.61      1895\n           2       0.07      0.43      0.12        28\n           3       0.39      0.58      0.46        33\n           4       0.44      0.72      0.54       286\n           5       0.46      0.70      0.56       401\n           6       0.23      0.59      0.33        76\n           7       0.78      0.89      0.83        81\n           8       0.49      0.57      0.52       773\n           9       0.81      0.74      0.77       971\n          10       0.45      0.68      0.55       234\n          11       0.28      0.73      0.40       175\n          12       0.67      0.91      0.77       137\n\n    accuracy                           0.59      7443\n   macro avg       0.50      0.66      0.54      7443\nweighted avg       0.65      0.59      0.60      7443\n\n"
        }
      ],
      "execution_count": 39,
      "metadata": {
        "jupyter": {
          "source_hidden": false,
          "outputs_hidden": false
        },
        "nteract": {
          "transient": {
            "deleting": false
          }
        },
        "gather": {
          "logged": 1632551220157
        }
      }
    }
  ],
  "metadata": {
    "kernelspec": {
      "name": "python3-azureml",
      "language": "python",
      "display_name": "Python 3.6 - AzureML"
    },
    "language_info": {
      "name": "python",
      "version": "3.6.9",
      "mimetype": "text/x-python",
      "codemirror_mode": {
        "name": "ipython",
        "version": 3
      },
      "pygments_lexer": "ipython3",
      "nbconvert_exporter": "python",
      "file_extension": ".py"
    },
    "kernel_info": {
      "name": "python3-azureml"
    },
    "microsoft": {
      "host": {
        "AzureML": {
          "notebookHasBeenCompleted": true
        }
      }
    },
    "nteract": {
      "version": "nteract-front-end@1.0.0"
    }
  },
  "nbformat": 4,
  "nbformat_minor": 2
}