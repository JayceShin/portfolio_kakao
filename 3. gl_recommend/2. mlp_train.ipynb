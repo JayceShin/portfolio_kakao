{
  "cells": [
    {
      "cell_type": "code",
      "source": [
        "import warnings\r\n",
        "warnings.filterwarnings('ignore')\r\n",
        "from sklearn.preprocessing import *\r\n",
        "\r\n",
        "import numpy as np\r\n",
        "import pandas as pd\r\n",
        "import seaborn as sns\r\n",
        "from tqdm.notebook import tqdm\r\n",
        "import matplotlib.pyplot as plt\r\n",
        "\r\n",
        "from datetime import datetime, date\r\n",
        "import openpyxl\r\n",
        "import torch\r\n",
        "import torch.nn as nn\r\n",
        "import torch.optim as optim\r\n",
        "from torch.utils.data import Dataset, DataLoader, WeightedRandomSampler\r\n",
        "\r\n",
        "from sklearn.model_selection import train_test_split\r\n",
        "from sklearn.metrics import confusion_matrix, classification_report"
      ],
      "outputs": [],
      "execution_count": 82,
      "metadata": {
        "gather": {
          "logged": 1633880523933
        }
      }
    },
    {
      "cell_type": "code",
      "source": [
        "dataset = pd.read_excel('./data/carddata3.xlsx', engine=\"openpyxl\")"
      ],
      "outputs": [],
      "execution_count": 76,
      "metadata": {
        "jupyter": {
          "source_hidden": false,
          "outputs_hidden": false
        },
        "nteract": {
          "transient": {
            "deleting": false
          }
        },
        "gather": {
          "logged": 1633880404226
        }
      }
    },
    {
      "cell_type": "code",
      "source": [
        "dataset = dataset[dataset['HKONT'] != 54010901]\r\n",
        "dataset = dataset[dataset['HKONT'] != 54010817]\r\n",
        "dataset = dataset[dataset['HKONT'] != 54011603]"
      ],
      "outputs": [],
      "execution_count": 78,
      "metadata": {
        "jupyter": {
          "source_hidden": false,
          "outputs_hidden": false
        },
        "nteract": {
          "transient": {
            "deleting": false
          }
        },
        "gather": {
          "logged": 1633880429218
        }
      }
    },
    {
      "cell_type": "code",
      "source": [
        "t = dataset['HKONT']\r\n",
        "t.value_counts()"
      ],
      "outputs": [
        {
          "output_type": "execute_result",
          "execution_count": 79,
          "data": {
            "text/plain": "54010801    17476\n54010802    11518\n54011701     6142\n54011901     5983\n54011403     4556\n54010902     1635\n54011903     1334\n54011905      943\n54012618      696\n54011405      682\nName: HKONT, dtype: int64"
          },
          "metadata": {}
        }
      ],
      "execution_count": 79,
      "metadata": {
        "jupyter": {
          "source_hidden": false,
          "outputs_hidden": false
        },
        "nteract": {
          "transient": {
            "deleting": false
          }
        },
        "gather": {
          "logged": 1633880454298
        }
      }
    },
    {
      "cell_type": "code",
      "source": [
        "dataset.columns=[\"APPR_NO\", \"MCC_CODE\", \"MCC_NAME\", \"ACQ_CLASS\", \"APPR_DATE\", \"APPR_TIME\", \"MERCH_ADDR\", \"MERCH_NAME\", \"ABOARD\", \"APPR_AMT\",\"TIPS\",\"ACQU_FEE\", \"VAT\", \"ETC1\", \"ETC3\", \"CRD_FG_CD\", \"CRD_STL_DD\", \"EMP_NO\", \"EMP_DV_CD\", \"GRADE_CD\", \"TITLE_CD\", \"BP_CD\", \"BA_CD\", \"HKONT\", \"ACCT_NM\"]\r\n",
        "dataset = dataset.astype({'MCC_CODE': 'object', 'ETC3': 'object', 'TITLE_CD':'object', 'CRD_STL_DD':'object','BA_CD':'object' ,'HKONT': 'object'})\r\n",
        "dataset = dataset.dropna(axis=0).reset_index()\r\n",
        "\r\n",
        "for index, row in dataset.iterrows():\r\n",
        "    if dataset[\"MERCH_ADDR\"][index].isalpha():\r\n",
        "        dataset[\"MERCH_ADDR\"][index] = \"Foreign\"\r\n",
        "    else:\r\n",
        "        dataset[\"MERCH_ADDR\"][index] = dataset[\"MERCH_ADDR\"][index].split(\" \")[1]"
      ],
      "outputs": [],
      "execution_count": 80,
      "metadata": {
        "jupyter": {
          "source_hidden": false,
          "outputs_hidden": false
        },
        "nteract": {
          "transient": {
            "deleting": false
          }
        },
        "gather": {
          "logged": 1633880472120
        }
      }
    },
    {
      "cell_type": "code",
      "source": [
        "new_data = pd.DataFrame()\r\n",
        "label_onehot = pd.DataFrame()\r\n",
        "label_label = pd.DataFrame()\r\n",
        "cate_col = [\"MCC_CODE\",\"MERCH_ADDR\",\"ABOARD\",\"ETC1\",\"ETC3\",\"CRD_FG_CD\",\"CRD_STL_DD\",\"TITLE_CD\",\"BA_CD\", \"HKONT\"]\r\n",
        "day_week_array = []\r\n",
        "day_range_array = []\r\n",
        "time_range_array = []\r\n",
        "\r\n",
        "# 금액 데이터 처리\r\n",
        "appr_amt = np.array(dataset[\"APPR_AMT\"]).reshape(-1, 1)\r\n",
        "vat = np.array(dataset[\"VAT\"]).reshape(-1, 1)\r\n",
        "ss_amt=StandardScaler().fit_transform(appr_amt)\r\n",
        "ss_vat=StandardScaler().fit_transform(vat)\r\n",
        "reg_amt=MinMaxScaler().fit_transform(appr_amt)\r\n",
        "reg_vat=MinMaxScaler().fit_transform(vat)\r\n",
        "ss_amt_frame = pd.DataFrame(ss_amt)\r\n",
        "ss_vat_frame = pd.DataFrame(ss_vat)\r\n",
        "reg_amt_frame = pd.DataFrame(reg_amt)\r\n",
        "reg_vat_frame = pd.DataFrame(reg_vat)\r\n",
        "\r\n",
        "new_data = pd.concat([new_data, ss_amt_frame], axis=1)\r\n",
        "new_data = pd.concat([new_data, ss_vat_frame], axis=1)\r\n",
        "#new_data = pd.concat([new_data, reg_amt_frame], axis=1)\r\n",
        "#new_data = pd.concat([new_data, reg_vat_frame], axis=1)\r\n",
        "#new_data = pd.concat([new_data, dataset[\"APPR_AMT\"]], axis=1)\r\n",
        "#new_data = pd.concat([new_data, dataset[\"VAT\"]], axis=1)\r\n",
        "\r\n",
        "# 날짜 데이터 처리\r\n",
        "datatemp = pd.DataFrame(dataset[\"APPR_DATE\"])\r\n",
        "for index, row in datatemp.iterrows():\r\n",
        "    temp_year  = int(str(dataset[\"APPR_DATE\"][index])[0:4])\r\n",
        "    temp_month = int(str(dataset[\"APPR_DATE\"][index])[4:6])\r\n",
        "    temp_day   = int(str(dataset[\"APPR_DATE\"][index])[6:8])\r\n",
        "    day = date(temp_year, temp_month, temp_day).weekday()\r\n",
        "\r\n",
        "    if temp_day < 10:\r\n",
        "        range_day = 0\r\n",
        "    elif temp_day >= 10 and temp_day < 20:\r\n",
        "        range_day = 1\r\n",
        "    else:\r\n",
        "        range_day = 2    \r\n",
        "        \r\n",
        "    day_week_array.append(day)\r\n",
        "    day_range_array.append(range_day)\r\n",
        "\r\n",
        "new_data = pd.concat([new_data, pd.DataFrame(day_week_array)], axis=1)\r\n",
        "new_data = pd.concat([new_data, pd.DataFrame(day_range_array)], axis=1)\r\n",
        "\r\n",
        "# 시간 데이터 처리\r\n",
        "datatemp = pd.DataFrame(dataset[\"APPR_TIME\"])\r\n",
        "for index, row in datatemp.iterrows():\r\n",
        "    temp_time   = int(str(dataset[\"APPR_TIME\"][index])[0:2])\r\n",
        "\r\n",
        "    if temp_time <10:\r\n",
        "        range_time = 0\r\n",
        "    elif temp_time >= 10 and temp_time < 14:\r\n",
        "        range_time = 1\r\n",
        "    elif temp_time >= 14 and temp_time < 18:\r\n",
        "        range_time = 2\r\n",
        "    else:\r\n",
        "        range_time = 3\r\n",
        "\r\n",
        "    time_range_array.append(range_time)    \r\n",
        "    \r\n",
        "new_data = pd.concat([new_data, pd.DataFrame(time_range_array)], axis=1)    \r\n",
        "\r\n",
        "# categorical data 처리\r\n",
        "for col in dataset.columns:\r\n",
        "    if col in cate_col:\r\n",
        "        if col == 'HKONT':\r\n",
        "            le = LabelEncoder()\r\n",
        "            le.fit(dataset.HKONT)\r\n",
        "            temp = pd.DataFrame(le.transform(dataset.HKONT))\r\n",
        "            label_label = pd.concat([label_label, temp], axis = 1)\r\n",
        "            \r\n",
        "            enc = OneHotEncoder(handle_unknown ='ignore')\r\n",
        "            enc.fit(np.array(dataset[col]).reshape(-1,1))\r\n",
        "            temp = pd.DataFrame(enc.transform(np.array(dataset[col]).reshape(-1,1)).toarray())\r\n",
        "            label_onehot = pd.concat([label_onehot, temp], axis = 1)\r\n",
        "        else:\r\n",
        "            enc = OneHotEncoder(handle_unknown ='ignore')\r\n",
        "            # col_name = enc.get_feature_names([col])\r\n",
        "            # encoded = enc.fit_transform(dataset[col])\r\n",
        "            # one_hot_encoded_frame = pd.DataFrame(encoded ,columns=col_name)\r\n",
        "            enc.fit(np.array(dataset[col]).reshape(-1,1))\r\n",
        "            temp = pd.DataFrame(enc.transform(np.array(dataset[col]).reshape(-1,1)).toarray())\r\n",
        "            new_data = pd.concat([new_data, temp], axis=1)"
      ],
      "outputs": [],
      "execution_count": 83,
      "metadata": {
        "jupyter": {
          "source_hidden": false,
          "outputs_hidden": false
        },
        "nteract": {
          "transient": {
            "deleting": false
          }
        },
        "gather": {
          "logged": 1633880540063
        }
      }
    },
    {
      "cell_type": "code",
      "source": [
        "new_col_index = np.array(range(1,len(new_data.T)+1),int)\r\n",
        "new_data.columns = new_col_index\r\n",
        "new_data.head()"
      ],
      "outputs": [
        {
          "output_type": "execute_result",
          "execution_count": 92,
          "data": {
            "text/plain": "        1         2    3    4    5    6    7    8    9    10   ...  327  328  \\\n0  0.223239  0.246525    4    2    3  0.0  0.0  0.0  0.0  0.0  ...  0.0  0.0   \n1  2.472689  2.577533    6    0    1  0.0  0.0  0.0  0.0  0.0  ...  0.0  0.0   \n2  0.257886  0.282356    4    2    3  0.0  0.0  0.0  0.0  0.0  ...  0.0  0.0   \n3 -0.086370 -0.074173    0    1    1  0.0  0.0  0.0  0.0  0.0  ...  0.0  0.0   \n4  0.307655  0.334226    3    1    1  0.0  1.0  0.0  0.0  0.0  ...  0.0  0.0   \n\n   329  330  331  332  333  334  335  336  \n0  0.0  0.0  0.0  0.0  0.0  0.0  1.0  0.0  \n1  0.0  0.0  0.0  0.0  0.0  0.0  1.0  0.0  \n2  0.0  0.0  0.0  0.0  0.0  0.0  1.0  0.0  \n3  0.0  0.0  0.0  0.0  0.0  0.0  1.0  0.0  \n4  0.0  0.0  0.0  0.0  0.0  0.0  1.0  0.0  \n\n[5 rows x 336 columns]",
            "text/html": "<div>\n<style scoped>\n    .dataframe tbody tr th:only-of-type {\n        vertical-align: middle;\n    }\n\n    .dataframe tbody tr th {\n        vertical-align: top;\n    }\n\n    .dataframe thead th {\n        text-align: right;\n    }\n</style>\n<table border=\"1\" class=\"dataframe\">\n  <thead>\n    <tr style=\"text-align: right;\">\n      <th></th>\n      <th>1</th>\n      <th>2</th>\n      <th>3</th>\n      <th>4</th>\n      <th>5</th>\n      <th>6</th>\n      <th>7</th>\n      <th>8</th>\n      <th>9</th>\n      <th>10</th>\n      <th>...</th>\n      <th>327</th>\n      <th>328</th>\n      <th>329</th>\n      <th>330</th>\n      <th>331</th>\n      <th>332</th>\n      <th>333</th>\n      <th>334</th>\n      <th>335</th>\n      <th>336</th>\n    </tr>\n  </thead>\n  <tbody>\n    <tr>\n      <th>0</th>\n      <td>0.223239</td>\n      <td>0.246525</td>\n      <td>4</td>\n      <td>2</td>\n      <td>3</td>\n      <td>0.0</td>\n      <td>0.0</td>\n      <td>0.0</td>\n      <td>0.0</td>\n      <td>0.0</td>\n      <td>...</td>\n      <td>0.0</td>\n      <td>0.0</td>\n      <td>0.0</td>\n      <td>0.0</td>\n      <td>0.0</td>\n      <td>0.0</td>\n      <td>0.0</td>\n      <td>0.0</td>\n      <td>1.0</td>\n      <td>0.0</td>\n    </tr>\n    <tr>\n      <th>1</th>\n      <td>2.472689</td>\n      <td>2.577533</td>\n      <td>6</td>\n      <td>0</td>\n      <td>1</td>\n      <td>0.0</td>\n      <td>0.0</td>\n      <td>0.0</td>\n      <td>0.0</td>\n      <td>0.0</td>\n      <td>...</td>\n      <td>0.0</td>\n      <td>0.0</td>\n      <td>0.0</td>\n      <td>0.0</td>\n      <td>0.0</td>\n      <td>0.0</td>\n      <td>0.0</td>\n      <td>0.0</td>\n      <td>1.0</td>\n      <td>0.0</td>\n    </tr>\n    <tr>\n      <th>2</th>\n      <td>0.257886</td>\n      <td>0.282356</td>\n      <td>4</td>\n      <td>2</td>\n      <td>3</td>\n      <td>0.0</td>\n      <td>0.0</td>\n      <td>0.0</td>\n      <td>0.0</td>\n      <td>0.0</td>\n      <td>...</td>\n      <td>0.0</td>\n      <td>0.0</td>\n      <td>0.0</td>\n      <td>0.0</td>\n      <td>0.0</td>\n      <td>0.0</td>\n      <td>0.0</td>\n      <td>0.0</td>\n      <td>1.0</td>\n      <td>0.0</td>\n    </tr>\n    <tr>\n      <th>3</th>\n      <td>-0.086370</td>\n      <td>-0.074173</td>\n      <td>0</td>\n      <td>1</td>\n      <td>1</td>\n      <td>0.0</td>\n      <td>0.0</td>\n      <td>0.0</td>\n      <td>0.0</td>\n      <td>0.0</td>\n      <td>...</td>\n      <td>0.0</td>\n      <td>0.0</td>\n      <td>0.0</td>\n      <td>0.0</td>\n      <td>0.0</td>\n      <td>0.0</td>\n      <td>0.0</td>\n      <td>0.0</td>\n      <td>1.0</td>\n      <td>0.0</td>\n    </tr>\n    <tr>\n      <th>4</th>\n      <td>0.307655</td>\n      <td>0.334226</td>\n      <td>3</td>\n      <td>1</td>\n      <td>1</td>\n      <td>0.0</td>\n      <td>1.0</td>\n      <td>0.0</td>\n      <td>0.0</td>\n      <td>0.0</td>\n      <td>...</td>\n      <td>0.0</td>\n      <td>0.0</td>\n      <td>0.0</td>\n      <td>0.0</td>\n      <td>0.0</td>\n      <td>0.0</td>\n      <td>0.0</td>\n      <td>0.0</td>\n      <td>1.0</td>\n      <td>0.0</td>\n    </tr>\n  </tbody>\n</table>\n<p>5 rows × 336 columns</p>\n</div>"
          },
          "metadata": {}
        }
      ],
      "execution_count": 92,
      "metadata": {
        "jupyter": {
          "source_hidden": false,
          "outputs_hidden": false
        },
        "nteract": {
          "transient": {
            "deleting": false
          }
        },
        "gather": {
          "logged": 1633880752671
        }
      }
    },
    {
      "cell_type": "code",
      "source": [
        "df = pd.concat([new_data,label_label], axis=1)\r\n",
        "df.head()"
      ],
      "outputs": [
        {
          "output_type": "execute_result",
          "execution_count": 93,
          "data": {
            "text/plain": "        1         2    3    4    5    6    7    8    9    10   ...  328  329  \\\n0  0.223239  0.246525    4    2    3  0.0  0.0  0.0  0.0  0.0  ...  0.0  0.0   \n1  2.472689  2.577533    6    0    1  0.0  0.0  0.0  0.0  0.0  ...  0.0  0.0   \n2  0.257886  0.282356    4    2    3  0.0  0.0  0.0  0.0  0.0  ...  0.0  0.0   \n3 -0.086370 -0.074173    0    1    1  0.0  0.0  0.0  0.0  0.0  ...  0.0  0.0   \n4  0.307655  0.334226    3    1    1  0.0  1.0  0.0  0.0  0.0  ...  0.0  0.0   \n\n   330  331  332  333  334  335  336  0    \n0  0.0  0.0  0.0  0.0  0.0  1.0  0.0    2  \n1  0.0  0.0  0.0  0.0  0.0  1.0  0.0    2  \n2  0.0  0.0  0.0  0.0  0.0  1.0  0.0    2  \n3  0.0  0.0  0.0  0.0  0.0  1.0  0.0    1  \n4  0.0  0.0  0.0  0.0  0.0  1.0  0.0    2  \n\n[5 rows x 337 columns]",
            "text/html": "<div>\n<style scoped>\n    .dataframe tbody tr th:only-of-type {\n        vertical-align: middle;\n    }\n\n    .dataframe tbody tr th {\n        vertical-align: top;\n    }\n\n    .dataframe thead th {\n        text-align: right;\n    }\n</style>\n<table border=\"1\" class=\"dataframe\">\n  <thead>\n    <tr style=\"text-align: right;\">\n      <th></th>\n      <th>1</th>\n      <th>2</th>\n      <th>3</th>\n      <th>4</th>\n      <th>5</th>\n      <th>6</th>\n      <th>7</th>\n      <th>8</th>\n      <th>9</th>\n      <th>10</th>\n      <th>...</th>\n      <th>328</th>\n      <th>329</th>\n      <th>330</th>\n      <th>331</th>\n      <th>332</th>\n      <th>333</th>\n      <th>334</th>\n      <th>335</th>\n      <th>336</th>\n      <th>0</th>\n    </tr>\n  </thead>\n  <tbody>\n    <tr>\n      <th>0</th>\n      <td>0.223239</td>\n      <td>0.246525</td>\n      <td>4</td>\n      <td>2</td>\n      <td>3</td>\n      <td>0.0</td>\n      <td>0.0</td>\n      <td>0.0</td>\n      <td>0.0</td>\n      <td>0.0</td>\n      <td>...</td>\n      <td>0.0</td>\n      <td>0.0</td>\n      <td>0.0</td>\n      <td>0.0</td>\n      <td>0.0</td>\n      <td>0.0</td>\n      <td>0.0</td>\n      <td>1.0</td>\n      <td>0.0</td>\n      <td>2</td>\n    </tr>\n    <tr>\n      <th>1</th>\n      <td>2.472689</td>\n      <td>2.577533</td>\n      <td>6</td>\n      <td>0</td>\n      <td>1</td>\n      <td>0.0</td>\n      <td>0.0</td>\n      <td>0.0</td>\n      <td>0.0</td>\n      <td>0.0</td>\n      <td>...</td>\n      <td>0.0</td>\n      <td>0.0</td>\n      <td>0.0</td>\n      <td>0.0</td>\n      <td>0.0</td>\n      <td>0.0</td>\n      <td>0.0</td>\n      <td>1.0</td>\n      <td>0.0</td>\n      <td>2</td>\n    </tr>\n    <tr>\n      <th>2</th>\n      <td>0.257886</td>\n      <td>0.282356</td>\n      <td>4</td>\n      <td>2</td>\n      <td>3</td>\n      <td>0.0</td>\n      <td>0.0</td>\n      <td>0.0</td>\n      <td>0.0</td>\n      <td>0.0</td>\n      <td>...</td>\n      <td>0.0</td>\n      <td>0.0</td>\n      <td>0.0</td>\n      <td>0.0</td>\n      <td>0.0</td>\n      <td>0.0</td>\n      <td>0.0</td>\n      <td>1.0</td>\n      <td>0.0</td>\n      <td>2</td>\n    </tr>\n    <tr>\n      <th>3</th>\n      <td>-0.086370</td>\n      <td>-0.074173</td>\n      <td>0</td>\n      <td>1</td>\n      <td>1</td>\n      <td>0.0</td>\n      <td>0.0</td>\n      <td>0.0</td>\n      <td>0.0</td>\n      <td>0.0</td>\n      <td>...</td>\n      <td>0.0</td>\n      <td>0.0</td>\n      <td>0.0</td>\n      <td>0.0</td>\n      <td>0.0</td>\n      <td>0.0</td>\n      <td>0.0</td>\n      <td>1.0</td>\n      <td>0.0</td>\n      <td>1</td>\n    </tr>\n    <tr>\n      <th>4</th>\n      <td>0.307655</td>\n      <td>0.334226</td>\n      <td>3</td>\n      <td>1</td>\n      <td>1</td>\n      <td>0.0</td>\n      <td>1.0</td>\n      <td>0.0</td>\n      <td>0.0</td>\n      <td>0.0</td>\n      <td>...</td>\n      <td>0.0</td>\n      <td>0.0</td>\n      <td>0.0</td>\n      <td>0.0</td>\n      <td>0.0</td>\n      <td>0.0</td>\n      <td>0.0</td>\n      <td>1.0</td>\n      <td>0.0</td>\n      <td>2</td>\n    </tr>\n  </tbody>\n</table>\n<p>5 rows × 337 columns</p>\n</div>"
          },
          "metadata": {}
        }
      ],
      "execution_count": 93,
      "metadata": {
        "jupyter": {
          "source_hidden": false,
          "outputs_hidden": false
        },
        "nteract": {
          "transient": {
            "deleting": false
          }
        },
        "gather": {
          "logged": 1633880756260
        }
      }
    },
    {
      "cell_type": "code",
      "source": [
        "sns.countplot(x = 0, data=df)"
      ],
      "outputs": [
        {
          "output_type": "execute_result",
          "execution_count": 95,
          "data": {
            "text/plain": "<AxesSubplot:xlabel='0', ylabel='count'>"
          },
          "metadata": {}
        },
        {
          "output_type": "display_data",
          "data": {
            "text/plain": "<Figure size 432x288 with 1 Axes>",
            "image/png": "[encoded data removed]"
          },
          "metadata": {
            "needs_background": "light"
          }
        }
      ],
      "execution_count": 95,
      "metadata": {
        "jupyter": {
          "source_hidden": false,
          "outputs_hidden": false
        },
        "nteract": {
          "transient": {
            "deleting": false
          }
        },
        "gather": {
          "logged": 1633880806263
        }
      }
    },
    {
      "cell_type": "code",
      "source": [
        "X = df.iloc[:, 0:-1]\r\n",
        "y = df.iloc[:, -1]"
      ],
      "outputs": [],
      "execution_count": 96,
      "metadata": {
        "jupyter": {
          "source_hidden": false,
          "outputs_hidden": false
        },
        "nteract": {
          "transient": {
            "deleting": false
          }
        },
        "gather": {
          "logged": 1633880816975
        }
      }
    },
    {
      "cell_type": "code",
      "source": [
        "# Split into train+val and test\r\n",
        "X_trainval, X_test, y_trainval, y_test = train_test_split(X, y, test_size=0.2, stratify=y, random_state=69)\r\n",
        "\r\n",
        "# Split train into train-val\r\n",
        "X_train, X_val, y_train, y_val = train_test_split(X_trainval, y_trainval, test_size=0.1, stratify=y_trainval, random_state=21)"
      ],
      "outputs": [],
      "execution_count": 97,
      "metadata": {
        "jupyter": {
          "source_hidden": false,
          "outputs_hidden": false
        },
        "nteract": {
          "transient": {
            "deleting": false
          }
        },
        "gather": {
          "logged": 1633880851097
        }
      }
    },
    {
      "cell_type": "code",
      "source": [
        "scaler = MinMaxScaler()\r\n",
        "X_train = scaler.fit_transform(X_train)\r\n",
        "X_val = scaler.transform(X_val)\r\n",
        "X_test = scaler.transform(X_test)\r\n",
        "X_train, y_train = np.array(X_train), np.array(y_train)\r\n",
        "X_val, y_val = np.array(X_val), np.array(y_val)\r\n",
        "X_test, y_test = np.array(X_test), np.array(y_test)"
      ],
      "outputs": [],
      "execution_count": 98,
      "metadata": {
        "jupyter": {
          "source_hidden": false,
          "outputs_hidden": false
        },
        "nteract": {
          "transient": {
            "deleting": false
          }
        },
        "gather": {
          "logged": 1633880854507
        }
      }
    },
    {
      "cell_type": "code",
      "source": [
        "def get_class_distribution(obj):\r\n",
        "    count_dict = {\r\n",
        "        \"rating_0\": 0,\r\n",
        "        \"rating_1\": 0,\r\n",
        "        \"rating_2\": 0,\r\n",
        "        \"rating_3\": 0,\r\n",
        "        \"rating_4\": 0,\r\n",
        "        \"rating_5\": 0,\r\n",
        "        \"rating_6\": 0,\r\n",
        "        \"rating_7\": 0,\r\n",
        "        \"rating_8\": 0,\r\n",
        "        \"rating_9\": 0,\r\n",
        "    }\r\n",
        "    \r\n",
        "    for i in obj:\r\n",
        "        if i == 0: \r\n",
        "            count_dict['rating_0'] += 1\r\n",
        "        elif i == 1: \r\n",
        "            count_dict['rating_1'] += 1\r\n",
        "        elif i == 2: \r\n",
        "            count_dict['rating_2'] += 1\r\n",
        "        elif i == 3: \r\n",
        "            count_dict['rating_3'] += 1\r\n",
        "        elif i == 4: \r\n",
        "            count_dict['rating_4'] += 1  \r\n",
        "        elif i == 5: \r\n",
        "            count_dict['rating_5'] += 1\r\n",
        "        elif i == 6: \r\n",
        "            count_dict['rating_6'] += 1\r\n",
        "        elif i == 7: \r\n",
        "            count_dict['rating_7'] += 1\r\n",
        "        elif i == 8: \r\n",
        "            count_dict['rating_8'] += 1\r\n",
        "        elif i == 9: \r\n",
        "            count_dict['rating_9'] += 1\r\n",
        "        else:\r\n",
        "            print(\"Check classes.\")\r\n",
        "            \r\n",
        "    return count_dict"
      ],
      "outputs": [],
      "execution_count": 99,
      "metadata": {
        "jupyter": {
          "source_hidden": false,
          "outputs_hidden": false
        },
        "nteract": {
          "transient": {
            "deleting": false
          }
        },
        "gather": {
          "logged": 1633880881438
        }
      }
    },
    {
      "cell_type": "code",
      "source": [
        "fig, axes = plt.subplots(nrows=1, ncols=3, figsize=(25,7))\r\n",
        "# Train\r\n",
        "sns.barplot(data = pd.DataFrame.from_dict([get_class_distribution(y_train)]).melt(), x = \"variable\", y=\"value\", hue=\"variable\",  ax=axes[0]).set_title('Class Distribution in Train Set')\r\n",
        "# Validation\r\n",
        "sns.barplot(data = pd.DataFrame.from_dict([get_class_distribution(y_val)]).melt(), x = \"variable\", y=\"value\", hue=\"variable\",  ax=axes[1]).set_title('Class Distribution in Val Set')\r\n",
        "# Test\r\n",
        "sns.barplot(data = pd.DataFrame.from_dict([get_class_distribution(y_test)]).melt(), x = \"variable\", y=\"value\", hue=\"variable\",  ax=axes[2]).set_title('Class Distribution in Test Set')"
      ],
      "outputs": [
        {
          "output_type": "execute_result",
          "execution_count": 100,
          "data": {
            "text/plain": "Text(0.5, 1.0, 'Class Distribution in Test Set')"
          },
          "metadata": {}
        },
        {
          "output_type": "display_data",
          "data": {
            "text/plain": "<Figure size 1800x504 with 3 Axes>",
            "image/png": "[encoded data removed]"
          },
          "metadata": {
            "needs_background": "light"
          }
        }
      ],
      "execution_count": 100,
      "metadata": {
        "jupyter": {
          "source_hidden": false,
          "outputs_hidden": false
        },
        "nteract": {
          "transient": {
            "deleting": false
          }
        },
        "gather": {
          "logged": 1633880890245
        }
      }
    },
    {
      "cell_type": "code",
      "source": [
        "class ClassifierDataset(Dataset):\r\n",
        "    \r\n",
        "    def __init__(self, X_data, y_data):\r\n",
        "        self.X_data = X_data\r\n",
        "        self.y_data = y_data\r\n",
        "        \r\n",
        "    def __getitem__(self, index):\r\n",
        "        return self.X_data[index], self.y_data[index]\r\n",
        "        \r\n",
        "    def __len__ (self):\r\n",
        "        return len(self.X_data)\r\n",
        "\r\n",
        "\r\n",
        "train_dataset = ClassifierDataset(torch.from_numpy(X_train).float(), torch.from_numpy(y_train).long())\r\n",
        "val_dataset = ClassifierDataset(torch.from_numpy(X_val).float(), torch.from_numpy(y_val).long())\r\n",
        "test_dataset = ClassifierDataset(torch.from_numpy(X_test).float(), torch.from_numpy(y_test).long())"
      ],
      "outputs": [],
      "execution_count": 101,
      "metadata": {
        "jupyter": {
          "source_hidden": false,
          "outputs_hidden": false
        },
        "nteract": {
          "transient": {
            "deleting": false
          }
        },
        "gather": {
          "logged": 1633880899169
        }
      }
    },
    {
      "cell_type": "code",
      "source": [
        "target_list = []\r\n",
        "for _, t in train_dataset:\r\n",
        "    target_list.append(t)\r\n",
        "    \r\n",
        "target_list = torch.tensor(target_list)\r\n",
        "target_list = target_list[torch.randperm(len(target_list))]"
      ],
      "outputs": [],
      "execution_count": 102,
      "metadata": {
        "jupyter": {
          "source_hidden": false,
          "outputs_hidden": false
        },
        "nteract": {
          "transient": {
            "deleting": false
          }
        },
        "gather": {
          "logged": 1633880904564
        }
      }
    },
    {
      "cell_type": "code",
      "source": [
        "class_count = [i for i in get_class_distribution(y_train).values()]\r\n",
        "class_weights = 1./torch.tensor(class_count, dtype=torch.float) \r\n",
        "print(class_weights)"
      ],
      "outputs": [
        {
          "output_type": "stream",
          "name": "stdout",
          "text": "tensor([0.0001, 0.0001, 0.0010, 0.0007, 0.0036, 0.0004, 0.0003, 0.0012, 0.0016,\n        0.0020])\n"
        }
      ],
      "execution_count": 103,
      "metadata": {
        "jupyter": {
          "source_hidden": false,
          "outputs_hidden": false
        },
        "nteract": {
          "transient": {
            "deleting": false
          }
        },
        "gather": {
          "logged": 1633880908119
        }
      }
    },
    {
      "cell_type": "code",
      "source": [
        "class_weights_all = class_weights[target_list]"
      ],
      "outputs": [],
      "execution_count": 104,
      "metadata": {
        "jupyter": {
          "source_hidden": false,
          "outputs_hidden": false
        },
        "nteract": {
          "transient": {
            "deleting": false
          }
        },
        "gather": {
          "logged": 1633880915272
        }
      }
    },
    {
      "cell_type": "code",
      "source": [
        "weighted_sampler = WeightedRandomSampler(\r\n",
        "    weights=class_weights_all,\r\n",
        "    num_samples=len(class_weights_all),\r\n",
        "    replacement=True\r\n",
        ")"
      ],
      "outputs": [],
      "execution_count": 105,
      "metadata": {
        "jupyter": {
          "source_hidden": false,
          "outputs_hidden": false
        },
        "nteract": {
          "transient": {
            "deleting": false
          }
        },
        "gather": {
          "logged": 1633880920637
        }
      }
    },
    {
      "cell_type": "code",
      "source": [
        "EPOCHS = 50\r\n",
        "BATCH_SIZE = 64\r\n",
        "LEARNING_RATE = 0.001\r\n",
        "NUM_FEATURES = len(X.columns)\r\n",
        "NUM_CLASSES = 10"
      ],
      "outputs": [],
      "execution_count": 106,
      "metadata": {
        "jupyter": {
          "source_hidden": false,
          "outputs_hidden": false
        },
        "nteract": {
          "transient": {
            "deleting": false
          }
        },
        "gather": {
          "logged": 1633880934951
        }
      }
    },
    {
      "cell_type": "code",
      "source": [
        "train_loader = DataLoader(dataset=train_dataset,\r\n",
        "                          batch_size=BATCH_SIZE,\r\n",
        "                          sampler=weighted_sampler\r\n",
        ")\r\n",
        "val_loader = DataLoader(dataset=val_dataset, batch_size=1)\r\n",
        "test_loader = DataLoader(dataset=test_dataset, batch_size=1)"
      ],
      "outputs": [],
      "execution_count": 107,
      "metadata": {
        "jupyter": {
          "source_hidden": false,
          "outputs_hidden": false
        },
        "nteract": {
          "transient": {
            "deleting": false
          }
        },
        "gather": {
          "logged": 1633880940591
        }
      }
    },
    {
      "cell_type": "code",
      "source": [
        "class MulticlassClassification(nn.Module):\r\n",
        "    def __init__(self, num_feature, num_class):\r\n",
        "        super(MulticlassClassification, self).__init__()\r\n",
        "        \r\n",
        "        self.layer_1 = nn.Linear(num_feature, 512)\r\n",
        "        self.layer_2 = nn.Linear(512, 128)\r\n",
        "        self.layer_3 = nn.Linear(128, 64)\r\n",
        "        self.layer_out = nn.Linear(64, num_class) \r\n",
        "        \r\n",
        "        self.relu = nn.ReLU()\r\n",
        "        self.dropout = nn.Dropout(p=0.2)\r\n",
        "        self.batchnorm1 = nn.BatchNorm1d(512)\r\n",
        "        self.batchnorm2 = nn.BatchNorm1d(128)\r\n",
        "        self.batchnorm3 = nn.BatchNorm1d(64)\r\n",
        "        \r\n",
        "    def forward(self, x):\r\n",
        "        x = self.layer_1(x)\r\n",
        "        x = self.batchnorm1(x)\r\n",
        "        x = self.relu(x)\r\n",
        "        \r\n",
        "        x = self.layer_2(x)\r\n",
        "        x = self.batchnorm2(x)\r\n",
        "        x = self.relu(x)\r\n",
        "        x = self.dropout(x)\r\n",
        "        \r\n",
        "        x = self.layer_3(x)\r\n",
        "        x = self.batchnorm3(x)\r\n",
        "        x = self.relu(x)\r\n",
        "        x = self.dropout(x)\r\n",
        "        \r\n",
        "        x = self.layer_out(x)\r\n",
        "        \r\n",
        "        return x"
      ],
      "outputs": [],
      "execution_count": 108,
      "metadata": {
        "jupyter": {
          "source_hidden": false,
          "outputs_hidden": false
        },
        "nteract": {
          "transient": {
            "deleting": false
          }
        },
        "gather": {
          "logged": 1633880945685
        }
      }
    },
    {
      "cell_type": "code",
      "source": [
        "device = torch.device(\"cuda:0\" if torch.cuda.is_available() else \"cpu\")\r\n",
        "print(device)"
      ],
      "outputs": [
        {
          "output_type": "stream",
          "name": "stdout",
          "text": "cpu\n"
        }
      ],
      "execution_count": 109,
      "metadata": {
        "jupyter": {
          "source_hidden": false,
          "outputs_hidden": false
        },
        "nteract": {
          "transient": {
            "deleting": false
          }
        },
        "gather": {
          "logged": 1633880949273
        }
      }
    },
    {
      "cell_type": "code",
      "source": [
        "model = MulticlassClassification(num_feature = NUM_FEATURES, num_class=NUM_CLASSES)\r\n",
        "model.to(device)\r\n",
        "\r\n",
        "criterion = nn.CrossEntropyLoss(weight=class_weights.to(device))\r\n",
        "optimizer = optim.Adam(model.parameters(), lr=LEARNING_RATE)\r\n",
        "print(model)"
      ],
      "outputs": [
        {
          "output_type": "stream",
          "name": "stdout",
          "text": "MulticlassClassification(\n  (layer_1): Linear(in_features=336, out_features=512, bias=True)\n  (layer_2): Linear(in_features=512, out_features=128, bias=True)\n  (layer_3): Linear(in_features=128, out_features=64, bias=True)\n  (layer_out): Linear(in_features=64, out_features=10, bias=True)\n  (relu): ReLU()\n  (dropout): Dropout(p=0.2, inplace=False)\n  (batchnorm1): BatchNorm1d(512, eps=1e-05, momentum=0.1, affine=True, track_running_stats=True)\n  (batchnorm2): BatchNorm1d(128, eps=1e-05, momentum=0.1, affine=True, track_running_stats=True)\n  (batchnorm3): BatchNorm1d(64, eps=1e-05, momentum=0.1, affine=True, track_running_stats=True)\n)\n"
        }
      ],
      "execution_count": 110,
      "metadata": {
        "jupyter": {
          "source_hidden": false,
          "outputs_hidden": false
        },
        "nteract": {
          "transient": {
            "deleting": false
          }
        },
        "gather": {
          "logged": 1633880952856
        }
      }
    },
    {
      "cell_type": "code",
      "source": [
        "def multi_acc(y_pred, y_test):\r\n",
        "    y_pred_softmax = torch.log_softmax(y_pred, dim = 1)\r\n",
        "    _, y_pred_tags = torch.max(y_pred_softmax, dim = 1)    \r\n",
        "    \r\n",
        "    correct_pred = (y_pred_tags == y_test).float()\r\n",
        "    acc = correct_pred.sum() / len(correct_pred)\r\n",
        "    \r\n",
        "    acc = torch.round(acc * 100)\r\n",
        "    \r\n",
        "    return acc"
      ],
      "outputs": [],
      "execution_count": 111,
      "metadata": {
        "jupyter": {
          "source_hidden": false,
          "outputs_hidden": false
        },
        "nteract": {
          "transient": {
            "deleting": false
          }
        },
        "gather": {
          "logged": 1633880961796
        }
      }
    },
    {
      "cell_type": "code",
      "source": [
        "accuracy_stats = {\r\n",
        "    'train': [],\r\n",
        "    \"val\": []\r\n",
        "}\r\n",
        "loss_stats = {\r\n",
        "    'train': [],\r\n",
        "    \"val\": []\r\n",
        "}"
      ],
      "outputs": [],
      "execution_count": 112,
      "metadata": {
        "jupyter": {
          "source_hidden": false,
          "outputs_hidden": false
        },
        "nteract": {
          "transient": {
            "deleting": false
          }
        },
        "gather": {
          "logged": 1633880963584
        }
      }
    },
    {
      "cell_type": "code",
      "source": [
        "print(\"Begin training.\")\r\n",
        "for e in tqdm(range(1, EPOCHS+1)):\r\n",
        "    \r\n",
        "    # TRAINING\r\n",
        "    train_epoch_loss = 0\r\n",
        "    train_epoch_acc = 0\r\n",
        "    model.train()\r\n",
        "    for X_train_batch, y_train_batch in train_loader:\r\n",
        "        X_train_batch, y_train_batch = X_train_batch.to(device), y_train_batch.to(device)\r\n",
        "        optimizer.zero_grad()\r\n",
        "        \r\n",
        "        y_train_pred = model(X_train_batch)\r\n",
        "        \r\n",
        "        train_loss = criterion(y_train_pred, y_train_batch)\r\n",
        "        train_acc = multi_acc(y_train_pred, y_train_batch)\r\n",
        "        \r\n",
        "        train_loss.backward()\r\n",
        "        optimizer.step()\r\n",
        "        \r\n",
        "        train_epoch_loss += train_loss.item()\r\n",
        "        train_epoch_acc += train_acc.item()\r\n",
        "        \r\n",
        "        \r\n",
        "    # VALIDATION    \r\n",
        "    with torch.no_grad():\r\n",
        "        \r\n",
        "        val_epoch_loss = 0\r\n",
        "        val_epoch_acc = 0\r\n",
        "        \r\n",
        "        model.eval()\r\n",
        "        for X_val_batch, y_val_batch in val_loader:\r\n",
        "            X_val_batch, y_val_batch = X_val_batch.to(device), y_val_batch.to(device)\r\n",
        "            \r\n",
        "            y_val_pred = model(X_val_batch)\r\n",
        "                        \r\n",
        "            val_loss = criterion(y_val_pred, y_val_batch)\r\n",
        "            val_acc = multi_acc(y_val_pred, y_val_batch)\r\n",
        "            \r\n",
        "            val_epoch_loss += val_loss.item()\r\n",
        "            val_epoch_acc += val_acc.item()\r\n",
        "\r\n",
        "    loss_stats['train'].append(train_epoch_loss/len(train_loader))\r\n",
        "    loss_stats['val'].append(val_epoch_loss/len(val_loader))\r\n",
        "    accuracy_stats['train'].append(train_epoch_acc/len(train_loader))\r\n",
        "    accuracy_stats['val'].append(val_epoch_acc/len(val_loader))\r\n",
        "                              \r\n",
        "    print(f'Epoch {e+0:03}: | Train Loss: {train_epoch_loss/len(train_loader):.5f} | Val Loss: {val_epoch_loss/len(val_loader):.5f} | Train Acc: {train_epoch_acc/len(train_loader):.3f}| Val Acc: {val_epoch_acc/len(val_loader):.3f}')"
      ],
      "outputs": [
        {
          "output_type": "stream",
          "name": "stdout",
          "text": "Begin training.\n"
        },
        {
          "output_type": "display_data",
          "data": {
            "text/plain": "  0%|          | 0/50 [00:00<?, ?it/s]",
            "application/vnd.jupyter.widget-view+json": {
              "version_major": 2,
              "version_minor": 0,
              "model_id": "ee47d31d96274ee0ac40e574274fb5aa"
            }
          },
          "metadata": {}
        },
        {
          "output_type": "stream",
          "name": "stdout",
          "text": "Epoch 001: | Train Loss: 1.23671 | Val Loss: 1.23824 | Train Acc: 50.127| Val Acc: 52.961\nEpoch 002: | Train Loss: 0.93446 | Val Loss: 1.15964 | Train Acc: 56.316| Val Acc: 55.255\nEpoch 003: | Train Loss: 0.86375 | Val Loss: 1.17091 | Train Acc: 58.479| Val Acc: 55.289\nEpoch 004: | Train Loss: 0.81772 | Val Loss: 1.07950 | Train Acc: 60.175| Val Acc: 57.206\nEpoch 005: | Train Loss: 0.80725 | Val Loss: 1.11389 | Train Acc: 60.297| Val Acc: 56.693\nEpoch 006: | Train Loss: 0.77610 | Val Loss: 1.08293 | Train Acc: 61.010| Val Acc: 57.720\nEpoch 007: | Train Loss: 0.74368 | Val Loss: 1.08209 | Train Acc: 61.881| Val Acc: 57.172\nEpoch 008: | Train Loss: 0.74224 | Val Loss: 1.11690 | Train Acc: 62.496| Val Acc: 56.933\nEpoch 009: | Train Loss: 0.71152 | Val Loss: 1.08523 | Train Acc: 62.596| Val Acc: 58.336\nEpoch 010: | Train Loss: 0.68189 | Val Loss: 1.09482 | Train Acc: 64.399| Val Acc: 58.644\nEpoch 011: | Train Loss: 0.69271 | Val Loss: 1.07866 | Train Acc: 64.204| Val Acc: 58.747\nEpoch 012: | Train Loss: 0.67082 | Val Loss: 1.08273 | Train Acc: 64.428| Val Acc: 57.343\nEpoch 013: | Train Loss: 0.67426 | Val Loss: 1.09671 | Train Acc: 64.134| Val Acc: 57.720\nEpoch 014: | Train Loss: 0.67308 | Val Loss: 1.08841 | Train Acc: 64.825| Val Acc: 57.651\nEpoch 015: | Train Loss: 0.63957 | Val Loss: 1.07785 | Train Acc: 65.095| Val Acc: 58.610\nEpoch 016: | Train Loss: 0.63933 | Val Loss: 1.09738 | Train Acc: 66.506| Val Acc: 58.747\nEpoch 017: | Train Loss: 0.63024 | Val Loss: 1.05956 | Train Acc: 65.523| Val Acc: 60.870\nEpoch 018: | Train Loss: 0.63824 | Val Loss: 1.07026 | Train Acc: 65.779| Val Acc: 58.507\nEpoch 019: | Train Loss: 0.63010 | Val Loss: 1.07852 | Train Acc: 65.474| Val Acc: 58.918\nEpoch 020: | Train Loss: 0.60233 | Val Loss: 1.02999 | Train Acc: 66.968| Val Acc: 59.843\nEpoch 021: | Train Loss: 0.59459 | Val Loss: 1.10329 | Train Acc: 66.866| Val Acc: 57.754\nEpoch 022: | Train Loss: 0.60177 | Val Loss: 1.10590 | Train Acc: 67.345| Val Acc: 58.610\nEpoch 023: | Train Loss: 0.58974 | Val Loss: 1.05525 | Train Acc: 66.847| Val Acc: 60.253\nEpoch 024: | Train Loss: 0.60485 | Val Loss: 1.06000 | Train Acc: 67.119| Val Acc: 59.911\nEpoch 025: | Train Loss: 0.59541 | Val Loss: 1.07943 | Train Acc: 67.071| Val Acc: 58.850\nEpoch 026: | Train Loss: 0.58096 | Val Loss: 1.08079 | Train Acc: 67.903| Val Acc: 59.261\nEpoch 027: | Train Loss: 0.56634 | Val Loss: 1.07439 | Train Acc: 68.056| Val Acc: 60.870\nEpoch 028: | Train Loss: 0.55467 | Val Loss: 1.06138 | Train Acc: 69.102| Val Acc: 60.493\nEpoch 029: | Train Loss: 0.55286 | Val Loss: 1.10162 | Train Acc: 68.297| Val Acc: 59.124\nEpoch 030: | Train Loss: 0.56541 | Val Loss: 1.12789 | Train Acc: 68.611| Val Acc: 58.610\nEpoch 031: | Train Loss: 0.56855 | Val Loss: 1.09443 | Train Acc: 68.304| Val Acc: 59.569\nEpoch 032: | Train Loss: 0.55812 | Val Loss: 1.05915 | Train Acc: 67.740| Val Acc: 59.432\nEpoch 033: | Train Loss: 0.53227 | Val Loss: 1.10184 | Train Acc: 69.044| Val Acc: 59.192\nEpoch 034: | Train Loss: 0.54482 | Val Loss: 1.09699 | Train Acc: 68.757| Val Acc: 59.534\nEpoch 035: | Train Loss: 0.54331 | Val Loss: 1.06570 | Train Acc: 68.893| Val Acc: 59.808\nEpoch 036: | Train Loss: 0.53533 | Val Loss: 1.09144 | Train Acc: 69.333| Val Acc: 59.397\nEpoch 037: | Train Loss: 0.52342 | Val Loss: 1.08031 | Train Acc: 69.105| Val Acc: 59.911\nEpoch 038: | Train Loss: 0.53580 | Val Loss: 1.07559 | Train Acc: 69.404| Val Acc: 60.219\nEpoch 039: | Train Loss: 0.53636 | Val Loss: 1.08301 | Train Acc: 69.022| Val Acc: 59.979\nEpoch 040: | Train Loss: 0.51678 | Val Loss: 1.10058 | Train Acc: 69.540| Val Acc: 59.706\nEpoch 041: | Train Loss: 0.52398 | Val Loss: 1.11291 | Train Acc: 69.139| Val Acc: 58.405\nEpoch 042: | Train Loss: 0.51288 | Val Loss: 1.08545 | Train Acc: 69.664| Val Acc: 60.561\nEpoch 043: | Train Loss: 0.50876 | Val Loss: 1.08753 | Train Acc: 70.151| Val Acc: 60.219\nEpoch 044: | Train Loss: 0.52682 | Val Loss: 1.08498 | Train Acc: 70.248| Val Acc: 60.527\nEpoch 045: | Train Loss: 0.51639 | Val Loss: 1.08378 | Train Acc: 69.847| Val Acc: 60.767\nEpoch 046: | Train Loss: 0.51389 | Val Loss: 1.11653 | Train Acc: 69.832| Val Acc: 58.952\nEpoch 047: | Train Loss: 0.50186 | Val Loss: 1.08103 | Train Acc: 70.477| Val Acc: 60.390\nEpoch 048: | Train Loss: 0.50922 | Val Loss: 1.13295 | Train Acc: 70.219| Val Acc: 59.055\nEpoch 049: | Train Loss: 0.49329 | Val Loss: 1.08031 | Train Acc: 70.837| Val Acc: 61.041\nEpoch 050: | Train Loss: 0.49328 | Val Loss: 1.09474 | Train Acc: 70.976| Val Acc: 60.664\n"
        }
      ],
      "execution_count": 113,
      "metadata": {
        "jupyter": {
          "source_hidden": false,
          "outputs_hidden": false
        },
        "nteract": {
          "transient": {
            "deleting": false
          }
        },
        "gather": {
          "logged": 1633881190774
        }
      }
    },
    {
      "cell_type": "code",
      "source": [
        "# Create dataframes\r\n",
        "train_val_acc_df = pd.DataFrame.from_dict(accuracy_stats).reset_index().melt(id_vars=['index']).rename(columns={\"index\":\"epochs\"})\r\n",
        "train_val_loss_df = pd.DataFrame.from_dict(loss_stats).reset_index().melt(id_vars=['index']).rename(columns={\"index\":\"epochs\"})\r\n",
        "# Plot the dataframes\r\n",
        "fig, axes = plt.subplots(nrows=1, ncols=2, figsize=(20,7))\r\n",
        "sns.lineplot(data=train_val_acc_df, x = \"epochs\", y=\"value\", hue=\"variable\",  ax=axes[0]).set_title('Train-Val Accuracy/Epoch')\r\n",
        "sns.lineplot(data=train_val_loss_df, x = \"epochs\", y=\"value\", hue=\"variable\", ax=axes[1]).set_title('Train-Val Loss/Epoch')"
      ],
      "outputs": [
        {
          "output_type": "execute_result",
          "execution_count": 115,
          "data": {
            "text/plain": "Text(0.5, 1.0, 'Train-Val Loss/Epoch')"
          },
          "metadata": {}
        },
        {
          "output_type": "display_data",
          "data": {
            "text/plain": "<Figure size 1440x504 with 2 Axes>",
            "image/png": "[encoded data removed]"
          },
          "metadata": {
            "needs_background": "light"
          }
        }
      ],
      "execution_count": 115,
      "metadata": {
        "jupyter": {
          "source_hidden": false,
          "outputs_hidden": false
        },
        "nteract": {
          "transient": {
            "deleting": false
          }
        },
        "gather": {
          "logged": 1633882752660
        }
      }
    },
    {
      "cell_type": "code",
      "source": [
        "y_pred_list = []\r\n",
        "with torch.no_grad():\r\n",
        "    model.eval()\r\n",
        "    for X_batch, _ in test_loader:\r\n",
        "        X_batch = X_batch.to(device)\r\n",
        "        y_test_pred = model(X_batch)\r\n",
        "        _, y_pred_tags = torch.max(y_test_pred, dim = 1)\r\n",
        "        y_pred_list.append(y_pred_tags.cpu().numpy())\r\n",
        "y_pred_list = [a.squeeze().tolist() for a in y_pred_list]\r\n",
        "\r\n",
        "print(classification_report(y_test, y_pred_list))"
      ],
      "outputs": [
        {
          "output_type": "stream",
          "name": "stdout",
          "text": "              precision    recall  f1-score   support\n\n           0       0.69      0.53      0.60      2353\n           1       0.72      0.57      0.64      1895\n           2       0.47      0.66      0.55       286\n           3       0.46      0.81      0.59       401\n           4       0.25      0.54      0.34        76\n           5       0.50      0.60      0.54       773\n           6       0.81      0.70      0.75       971\n           7       0.44      0.74      0.55       234\n           8       0.34      0.73      0.46       175\n           9       0.73      0.88      0.80       137\n\n    accuracy                           0.61      7301\n   macro avg       0.54      0.68      0.58      7301\nweighted avg       0.65      0.61      0.62      7301\n\n"
        }
      ],
      "execution_count": 117,
      "metadata": {
        "jupyter": {
          "source_hidden": false,
          "outputs_hidden": false
        },
        "nteract": {
          "transient": {
            "deleting": false
          }
        },
        "gather": {
          "logged": 1633882775910
        }
      }
    },
    {
      "cell_type": "code",
      "source": [
        "class MulticlassClassification(nn.Module):\r\n",
        "    def __init__(self, num_feature, num_class):\r\n",
        "        super(MulticlassClassification, self).__init__()\r\n",
        "        \r\n",
        "        self.layer_1 = nn.Linear(num_feature, 1024)\r\n",
        "        self.layer_2 = nn.Linear(1024, 512)\r\n",
        "        self.layer_3 = nn.Linear(512, 256)\r\n",
        "        self.layer_4 = nn.Linear(256, 128)\r\n",
        "        self.layer_5 = nn.Linear(128, 64)\r\n",
        "        self.layer_out = nn.Linear(64, num_class) \r\n",
        "        \r\n",
        "        self.relu = nn.ReLU()\r\n",
        "        self.dropout = nn.Dropout(p=0.2)\r\n",
        "        self.batchnorm1 = nn.BatchNorm1d(1024)\r\n",
        "        self.batchnorm2 = nn.BatchNorm1d(512)\r\n",
        "        self.batchnorm3 = nn.BatchNorm1d(256)\r\n",
        "        self.batchnorm4 = nn.BatchNorm1d(128)\r\n",
        "        self.batchnorm5 = nn.BatchNorm1d(64)\r\n",
        "        \r\n",
        "    def forward(self, x):\r\n",
        "        x = self.layer_1(x)\r\n",
        "        x = self.batchnorm1(x)\r\n",
        "        x = self.relu(x)\r\n",
        "        \r\n",
        "        x = self.layer_2(x)\r\n",
        "        x = self.batchnorm2(x)\r\n",
        "        x = self.relu(x)\r\n",
        "        x = self.dropout(x)\r\n",
        "        \r\n",
        "        x = self.layer_3(x)\r\n",
        "        x = self.batchnorm3(x)\r\n",
        "        x = self.relu(x)\r\n",
        "        x = self.dropout(x)\r\n",
        "        \r\n",
        "        x = self.layer_4(x)\r\n",
        "        x = self.batchnorm4(x)\r\n",
        "        x = self.relu(x)\r\n",
        "        x = self.dropout(x)\r\n",
        "\r\n",
        "        x = self.layer_5(x)\r\n",
        "        x = self.batchnorm5(x)\r\n",
        "        x = self.relu(x)\r\n",
        "        x = self.dropout(x)\r\n",
        "\r\n",
        "        x = self.layer_out(x)\r\n",
        "        \r\n",
        "        return x"
      ],
      "outputs": [],
      "execution_count": 118,
      "metadata": {
        "jupyter": {
          "source_hidden": false,
          "outputs_hidden": false
        },
        "nteract": {
          "transient": {
            "deleting": false
          }
        },
        "gather": {
          "logged": 1633882779472
        }
      }
    },
    {
      "cell_type": "code",
      "source": [
        "device = torch.device(\"cuda:0\" if torch.cuda.is_available() else \"cpu\")\r\n",
        "print(device)"
      ],
      "outputs": [
        {
          "output_type": "stream",
          "name": "stdout",
          "text": "cpu\n"
        }
      ],
      "execution_count": 119,
      "metadata": {
        "jupyter": {
          "source_hidden": false,
          "outputs_hidden": false
        },
        "nteract": {
          "transient": {
            "deleting": false
          }
        },
        "gather": {
          "logged": 1633882783041
        }
      }
    },
    {
      "cell_type": "code",
      "source": [
        "model = MulticlassClassification(num_feature = NUM_FEATURES, num_class=NUM_CLASSES)\r\n",
        "model.to(device)\r\n",
        "\r\n",
        "criterion = nn.CrossEntropyLoss(weight=class_weights.to(device))\r\n",
        "optimizer = optim.Adam(model.parameters(), lr=LEARNING_RATE)\r\n",
        "print(model)"
      ],
      "outputs": [
        {
          "output_type": "stream",
          "name": "stdout",
          "text": "MulticlassClassification(\n  (layer_1): Linear(in_features=336, out_features=1024, bias=True)\n  (layer_2): Linear(in_features=1024, out_features=512, bias=True)\n  (layer_3): Linear(in_features=512, out_features=256, bias=True)\n  (layer_4): Linear(in_features=256, out_features=128, bias=True)\n  (layer_5): Linear(in_features=128, out_features=64, bias=True)\n  (layer_out): Linear(in_features=64, out_features=10, bias=True)\n  (relu): ReLU()\n  (dropout): Dropout(p=0.2, inplace=False)\n  (batchnorm1): BatchNorm1d(1024, eps=1e-05, momentum=0.1, affine=True, track_running_stats=True)\n  (batchnorm2): BatchNorm1d(512, eps=1e-05, momentum=0.1, affine=True, track_running_stats=True)\n  (batchnorm3): BatchNorm1d(256, eps=1e-05, momentum=0.1, affine=True, track_running_stats=True)\n  (batchnorm4): BatchNorm1d(128, eps=1e-05, momentum=0.1, affine=True, track_running_stats=True)\n  (batchnorm5): BatchNorm1d(64, eps=1e-05, momentum=0.1, affine=True, track_running_stats=True)\n)\n"
        }
      ],
      "execution_count": 120,
      "metadata": {
        "jupyter": {
          "source_hidden": false,
          "outputs_hidden": false
        },
        "nteract": {
          "transient": {
            "deleting": false
          }
        },
        "gather": {
          "logged": 1633882786742
        }
      }
    },
    {
      "cell_type": "code",
      "source": [
        "accuracy_stats = {\r\n",
        "    'train': [],\r\n",
        "    \"val\": []\r\n",
        "}\r\n",
        "loss_stats = {\r\n",
        "    'train': [],\r\n",
        "    \"val\": []\r\n",
        "}"
      ],
      "outputs": [],
      "execution_count": 121,
      "metadata": {
        "jupyter": {
          "source_hidden": false,
          "outputs_hidden": false
        },
        "nteract": {
          "transient": {
            "deleting": false
          }
        },
        "gather": {
          "logged": 1633882788456
        }
      }
    },
    {
      "cell_type": "code",
      "source": [
        "print(\"Begin training.\")\r\n",
        "for e in tqdm(range(1, EPOCHS+1)):\r\n",
        "    \r\n",
        "    # TRAINING\r\n",
        "    train_epoch_loss = 0\r\n",
        "    train_epoch_acc = 0\r\n",
        "    model.train()\r\n",
        "    for X_train_batch, y_train_batch in train_loader:\r\n",
        "        X_train_batch, y_train_batch = X_train_batch.to(device), y_train_batch.to(device)\r\n",
        "        optimizer.zero_grad()\r\n",
        "        \r\n",
        "        y_train_pred = model(X_train_batch)\r\n",
        "        \r\n",
        "        train_loss = criterion(y_train_pred, y_train_batch)\r\n",
        "        train_acc = multi_acc(y_train_pred, y_train_batch)\r\n",
        "        \r\n",
        "        train_loss.backward()\r\n",
        "        optimizer.step()\r\n",
        "        \r\n",
        "        train_epoch_loss += train_loss.item()\r\n",
        "        train_epoch_acc += train_acc.item()\r\n",
        "        \r\n",
        "        \r\n",
        "    # VALIDATION    \r\n",
        "    with torch.no_grad():\r\n",
        "        \r\n",
        "        val_epoch_loss = 0\r\n",
        "        val_epoch_acc = 0\r\n",
        "        \r\n",
        "        model.eval()\r\n",
        "        for X_val_batch, y_val_batch in val_loader:\r\n",
        "            X_val_batch, y_val_batch = X_val_batch.to(device), y_val_batch.to(device)\r\n",
        "            \r\n",
        "            y_val_pred = model(X_val_batch)\r\n",
        "                        \r\n",
        "            val_loss = criterion(y_val_pred, y_val_batch)\r\n",
        "            val_acc = multi_acc(y_val_pred, y_val_batch)\r\n",
        "            \r\n",
        "            val_epoch_loss += val_loss.item()\r\n",
        "            val_epoch_acc += val_acc.item()\r\n",
        "\r\n",
        "    loss_stats['train'].append(train_epoch_loss/len(train_loader))\r\n",
        "    loss_stats['val'].append(val_epoch_loss/len(val_loader))\r\n",
        "    accuracy_stats['train'].append(train_epoch_acc/len(train_loader))\r\n",
        "    accuracy_stats['val'].append(val_epoch_acc/len(val_loader))\r\n",
        "                              \r\n",
        "    print(f'Epoch {e+0:03}: | Train Loss: {train_epoch_loss/len(train_loader):.5f} | Val Loss: {val_epoch_loss/len(val_loader):.5f} | Train Acc: {train_epoch_acc/len(train_loader):.3f}| Val Acc: {val_epoch_acc/len(val_loader):.3f}')"
      ],
      "outputs": [
        {
          "output_type": "stream",
          "name": "stdout",
          "text": "Begin training.\n"
        },
        {
          "output_type": "display_data",
          "data": {
            "text/plain": "  0%|          | 0/50 [00:00<?, ?it/s]",
            "application/vnd.jupyter.widget-view+json": {
              "version_major": 2,
              "version_minor": 0,
              "model_id": "bfe8e45f4de7473582e33e2f9da1bb44"
            }
          },
          "metadata": {}
        },
        {
          "output_type": "stream",
          "name": "stdout",
          "text": "Epoch 001: | Train Loss: 1.30831 | Val Loss: 1.25462 | Train Acc: 48.265| Val Acc: 50.873\nEpoch 002: | Train Loss: 0.98537 | Val Loss: 1.25007 | Train Acc: 55.311| Val Acc: 53.235\nEpoch 003: | Train Loss: 0.92806 | Val Loss: 1.21826 | Train Acc: 56.873| Val Acc: 53.030\nEpoch 004: | Train Loss: 0.87149 | Val Loss: 1.12540 | Train Acc: 58.097| Val Acc: 55.289\nEpoch 005: | Train Loss: 0.81633 | Val Loss: 1.11476 | Train Acc: 59.854| Val Acc: 54.742\nEpoch 006: | Train Loss: 0.80768 | Val Loss: 1.10354 | Train Acc: 60.353| Val Acc: 56.898\nEpoch 007: | Train Loss: 0.79942 | Val Loss: 1.14544 | Train Acc: 60.438| Val Acc: 56.488\nEpoch 008: | Train Loss: 0.77895 | Val Loss: 1.10096 | Train Acc: 61.311| Val Acc: 56.008\nEpoch 009: | Train Loss: 0.72432 | Val Loss: 1.09853 | Train Acc: 62.927| Val Acc: 57.651\nEpoch 010: | Train Loss: 0.72322 | Val Loss: 1.11934 | Train Acc: 63.153| Val Acc: 57.069\nEpoch 011: | Train Loss: 0.73089 | Val Loss: 1.14727 | Train Acc: 62.998| Val Acc: 55.734\nEpoch 012: | Train Loss: 0.71632 | Val Loss: 1.09875 | Train Acc: 63.367| Val Acc: 57.069\nEpoch 013: | Train Loss: 0.68902 | Val Loss: 1.12295 | Train Acc: 64.613| Val Acc: 55.392\nEpoch 014: | Train Loss: 0.68683 | Val Loss: 1.12023 | Train Acc: 63.827| Val Acc: 56.316\nEpoch 015: | Train Loss: 0.68273 | Val Loss: 1.05808 | Train Acc: 64.762| Val Acc: 57.754\nEpoch 016: | Train Loss: 0.64739 | Val Loss: 1.09031 | Train Acc: 65.338| Val Acc: 57.651\nEpoch 017: | Train Loss: 0.64545 | Val Loss: 1.10776 | Train Acc: 66.265| Val Acc: 57.754\nEpoch 018: | Train Loss: 0.62425 | Val Loss: 1.13792 | Train Acc: 66.243| Val Acc: 57.515\nEpoch 019: | Train Loss: 0.63816 | Val Loss: 1.10233 | Train Acc: 65.528| Val Acc: 57.583\nEpoch 020: | Train Loss: 0.63580 | Val Loss: 1.08497 | Train Acc: 66.102| Val Acc: 59.329\nEpoch 021: | Train Loss: 0.61438 | Val Loss: 1.08953 | Train Acc: 67.019| Val Acc: 58.405\nEpoch 022: | Train Loss: 0.62123 | Val Loss: 1.11406 | Train Acc: 66.338| Val Acc: 57.857\nEpoch 023: | Train Loss: 0.60752 | Val Loss: 1.09017 | Train Acc: 66.985| Val Acc: 57.001\nEpoch 024: | Train Loss: 0.59883 | Val Loss: 1.10979 | Train Acc: 67.238| Val Acc: 56.385\nEpoch 025: | Train Loss: 0.59756 | Val Loss: 1.09674 | Train Acc: 67.735| Val Acc: 58.028\nEpoch 026: | Train Loss: 0.58928 | Val Loss: 1.06767 | Train Acc: 68.127| Val Acc: 59.877\nEpoch 027: | Train Loss: 0.60322 | Val Loss: 1.05778 | Train Acc: 67.363| Val Acc: 58.507\nEpoch 028: | Train Loss: 0.56033 | Val Loss: 1.09518 | Train Acc: 68.589| Val Acc: 58.952\nEpoch 029: | Train Loss: 0.57466 | Val Loss: 1.04846 | Train Acc: 68.348| Val Acc: 60.425\nEpoch 030: | Train Loss: 0.55527 | Val Loss: 1.09805 | Train Acc: 68.679| Val Acc: 59.603\nEpoch 031: | Train Loss: 0.55797 | Val Loss: 1.08552 | Train Acc: 68.730| Val Acc: 58.233\nEpoch 032: | Train Loss: 0.53732 | Val Loss: 1.08623 | Train Acc: 68.672| Val Acc: 59.055\nEpoch 033: | Train Loss: 0.54622 | Val Loss: 1.09217 | Train Acc: 69.039| Val Acc: 59.671\nEpoch 034: | Train Loss: 0.52457 | Val Loss: 1.07331 | Train Acc: 69.482| Val Acc: 59.637\nEpoch 035: | Train Loss: 0.54581 | Val Loss: 1.10393 | Train Acc: 69.182| Val Acc: 60.116\nEpoch 036: | Train Loss: 0.53496 | Val Loss: 1.10637 | Train Acc: 69.574| Val Acc: 60.116\nEpoch 037: | Train Loss: 0.52875 | Val Loss: 1.08892 | Train Acc: 70.453| Val Acc: 60.048\nEpoch 038: | Train Loss: 0.52013 | Val Loss: 1.07221 | Train Acc: 70.039| Val Acc: 60.630\nEpoch 039: | Train Loss: 0.52197 | Val Loss: 1.11267 | Train Acc: 70.127| Val Acc: 59.945\nEpoch 040: | Train Loss: 0.52923 | Val Loss: 1.09705 | Train Acc: 69.888| Val Acc: 59.295\nEpoch 041: | Train Loss: 0.52179 | Val Loss: 1.15365 | Train Acc: 70.428| Val Acc: 57.960\nEpoch 042: | Train Loss: 0.53129 | Val Loss: 1.16837 | Train Acc: 69.684| Val Acc: 59.124\nEpoch 043: | Train Loss: 0.50501 | Val Loss: 1.08704 | Train Acc: 70.586| Val Acc: 60.630\nEpoch 044: | Train Loss: 0.49904 | Val Loss: 1.09350 | Train Acc: 70.732| Val Acc: 60.904\nEpoch 045: | Train Loss: 0.50206 | Val Loss: 1.12379 | Train Acc: 70.793| Val Acc: 59.603\nEpoch 046: | Train Loss: 0.50285 | Val Loss: 1.13751 | Train Acc: 70.655| Val Acc: 58.850\nEpoch 047: | Train Loss: 0.48437 | Val Loss: 1.11729 | Train Acc: 71.010| Val Acc: 60.219\nEpoch 048: | Train Loss: 0.48836 | Val Loss: 1.14345 | Train Acc: 71.141| Val Acc: 59.124\nEpoch 049: | Train Loss: 0.47623 | Val Loss: 1.09721 | Train Acc: 71.448| Val Acc: 60.904\nEpoch 050: | Train Loss: 0.47834 | Val Loss: 1.14094 | Train Acc: 71.696| Val Acc: 59.603\n"
        }
      ],
      "execution_count": 122,
      "metadata": {
        "jupyter": {
          "source_hidden": false,
          "outputs_hidden": false
        },
        "nteract": {
          "transient": {
            "deleting": false
          }
        },
        "gather": {
          "logged": 1633883230598
        }
      }
    },
    {
      "cell_type": "code",
      "source": [
        "y_pred_list = []\r\n",
        "with torch.no_grad():\r\n",
        "    model.eval()\r\n",
        "    for X_batch, _ in test_loader:\r\n",
        "        X_batch = X_batch.to(device)\r\n",
        "        y_test_pred = model(X_batch)\r\n",
        "        _, y_pred_tags = torch.max(y_test_pred, dim = 1)\r\n",
        "        y_pred_list.append(y_pred_tags.cpu().numpy())\r\n",
        "y_pred_list = [a.squeeze().tolist() for a in y_pred_list]\r\n",
        "\r\n",
        "print(classification_report(y_test, y_pred_list))"
      ],
      "outputs": [
        {
          "output_type": "stream",
          "name": "stdout",
          "text": "              precision    recall  f1-score   support\n\n           0       0.71      0.51      0.60      2353\n           1       0.73      0.54      0.62      1895\n           2       0.38      0.67      0.48       286\n           3       0.45      0.81      0.58       401\n           4       0.27      0.55      0.37        76\n           5       0.48      0.61      0.54       773\n           6       0.83      0.68      0.75       971\n           7       0.38      0.79      0.51       234\n           8       0.35      0.73      0.47       175\n           9       0.79      0.91      0.84       137\n\n    accuracy                           0.60      7301\n   macro avg       0.54      0.68      0.58      7301\nweighted avg       0.66      0.60      0.61      7301\n\n"
        }
      ],
      "execution_count": 123,
      "metadata": {
        "jupyter": {
          "source_hidden": false,
          "outputs_hidden": false
        },
        "nteract": {
          "transient": {
            "deleting": false
          }
        },
        "gather": {
          "logged": 1633883234196
        }
      }
    }
  ],
  "metadata": {
    "kernelspec": {
      "name": "python3-azureml",
      "language": "python",
      "display_name": "Python 3.6 - AzureML"
    },
    "language_info": {
      "name": "python",
      "version": "3.6.9",
      "mimetype": "text/x-python",
      "codemirror_mode": {
        "name": "ipython",
        "version": 3
      },
      "pygments_lexer": "ipython3",
      "nbconvert_exporter": "python",
      "file_extension": ".py"
    },
    "kernel_info": {
      "name": "python3-azureml"
    },
    "microsoft": {
      "host": {
        "AzureML": {
          "notebookHasBeenCompleted": true
        }
      }
    },
    "nteract": {
      "version": "nteract-front-end@1.0.0"
    }
  },
  "nbformat": 4,
  "nbformat_minor": 2
}