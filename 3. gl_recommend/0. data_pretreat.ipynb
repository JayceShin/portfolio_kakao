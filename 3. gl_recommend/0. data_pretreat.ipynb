{
  "cells": [
    {
      "cell_type": "code",
      "source": [
        "import warnings\r\n",
        "warnings.filterwarnings('ignore')\r\n",
        "import numpy as np\r\n",
        "import pandas as pd\r\n",
        "from datetime import datetime, date\r\n",
        "from sklearn.preprocessing import *\r\n",
        "import openpyxl"
      ],
      "outputs": [],
      "execution_count": 13,
      "metadata": {
        "gather": {
          "logged": 1632551903432
        }
      }
    },
    {
      "cell_type": "code",
      "source": [
        "dataset = pd.read_excel('./data/carddata3.xlsx', engine=\"openpyxl\")"
      ],
      "outputs": [],
      "execution_count": 2,
      "metadata": {
        "jupyter": {
          "source_hidden": false,
          "outputs_hidden": false
        },
        "nteract": {
          "transient": {
            "deleting": false
          }
        },
        "gather": {
          "logged": 1632537667927
        }
      }
    },
    {
      "cell_type": "code",
      "source": [
        "dataset.columns=[\"APPR_NO\", \"MCC_CODE\", \"MCC_NAME\", \"ACQ_CLASS\", \"APPR_DATE\", \"APPR_TIME\", \"MERCH_ADDR\", \"MERCH_NAME\", \"ABOARD\", \"APPR_AMT\",\"TIPS\",\"ACQU_FEE\", \"VAT\", \"ETC1\", \"ETC3\", \"CRD_FG_CD\", \"CRD_STL_DD\", \"EMP_NO\", \"EMP_DV_CD\", \"GRADE_CD\", \"TITLE_CD\", \"BP_CD\", \"BA_CD\", \"HKONT\", \"ACCT_NM\"]\r\n",
        "dataset = dataset.astype({'MCC_CODE': 'object', 'ETC3': 'object', 'TITLE_CD':'object', 'CRD_STL_DD':'object','BA_CD':'object' ,'HKONT': 'object'})\r\n",
        "dataset = dataset.dropna(axis=0).reset_index()\r\n",
        "\r\n",
        "for index, row in dataset.iterrows():\r\n",
        "    if dataset[\"MERCH_ADDR\"][index].isalpha():\r\n",
        "        dataset[\"MERCH_ADDR\"][index] = \"Foreign\"\r\n",
        "    else:\r\n",
        "        dataset[\"MERCH_ADDR\"][index] = dataset[\"MERCH_ADDR\"][index].split(\" \")[1]"
      ],
      "outputs": [],
      "execution_count": 3,
      "metadata": {
        "jupyter": {
          "source_hidden": false,
          "outputs_hidden": false
        },
        "nteract": {
          "transient": {
            "deleting": false
          }
        },
        "gather": {
          "logged": 1632537683914
        }
      }
    },
    {
      "cell_type": "code",
      "source": [
        "new_data = pd.DataFrame()\r\n",
        "label_onehot = pd.DataFrame()\r\n",
        "label_label = pd.DataFrame()\r\n",
        "cate_col = [\"MCC_CODE\",\"MERCH_ADDR\",\"ABOARD\",\"ETC1\",\"ETC3\",\"CRD_FG_CD\",\"CRD_STL_DD\",\"TITLE_CD\",\"BA_CD\", \"HKONT\"]\r\n",
        "day_week_array = []\r\n",
        "day_range_array = []\r\n",
        "time_range_array = []\r\n",
        "\r\n",
        "# 금액 데이터 처리\r\n",
        "appr_amt = np.array(dataset[\"APPR_AMT\"]).reshape(-1, 1)\r\n",
        "vat = np.array(dataset[\"VAT\"]).reshape(-1, 1)\r\n",
        "ss_amt=StandardScaler().fit_transform(appr_amt)\r\n",
        "ss_vat=StandardScaler().fit_transform(vat)\r\n",
        "reg_amt=MinMaxScaler().fit_transform(appr_amt)\r\n",
        "reg_vat=MinMaxScaler().fit_transform(vat)\r\n",
        "ss_amt_frame = pd.DataFrame(ss_amt)\r\n",
        "ss_vat_frame = pd.DataFrame(ss_vat)\r\n",
        "reg_amt_frame = pd.DataFrame(reg_amt)\r\n",
        "reg_vat_frame = pd.DataFrame(reg_vat)\r\n",
        "\r\n",
        "new_data = pd.concat([new_data, ss_amt_frame], axis=1)\r\n",
        "new_data = pd.concat([new_data, ss_vat_frame], axis=1)\r\n",
        "#new_data = pd.concat([new_data, reg_amt_frame], axis=1)\r\n",
        "#new_data = pd.concat([new_data, reg_vat_frame], axis=1)\r\n",
        "#new_data = pd.concat([new_data, dataset[\"APPR_AMT\"]], axis=1)\r\n",
        "#new_data = pd.concat([new_data, dataset[\"VAT\"]], axis=1)\r\n",
        "\r\n",
        "# 날짜 데이터 처리\r\n",
        "datatemp = pd.DataFrame(dataset[\"APPR_DATE\"])\r\n",
        "for index, row in datatemp.iterrows():\r\n",
        "    temp_year  = int(str(dataset[\"APPR_DATE\"][index])[0:4])\r\n",
        "    temp_month = int(str(dataset[\"APPR_DATE\"][index])[4:6])\r\n",
        "    temp_day   = int(str(dataset[\"APPR_DATE\"][index])[6:8])\r\n",
        "    day = date(temp_year, temp_month, temp_day).weekday()\r\n",
        "\r\n",
        "    if temp_day < 10:\r\n",
        "        range_day = 0\r\n",
        "    elif temp_day >= 10 and temp_day < 20:\r\n",
        "        range_day = 1\r\n",
        "    else:\r\n",
        "        range_day = 2    \r\n",
        "        \r\n",
        "    day_week_array.append(day)\r\n",
        "    day_range_array.append(range_day)\r\n",
        "\r\n",
        "new_data = pd.concat([new_data, pd.DataFrame(day_week_array)], axis=1)\r\n",
        "new_data = pd.concat([new_data, pd.DataFrame(day_range_array)], axis=1)\r\n",
        "\r\n",
        "# 시간 데이터 처리\r\n",
        "datatemp = pd.DataFrame(dataset[\"APPR_TIME\"])\r\n",
        "for index, row in datatemp.iterrows():\r\n",
        "    temp_time   = int(str(dataset[\"APPR_TIME\"][index])[0:2])\r\n",
        "\r\n",
        "    if temp_time <10:\r\n",
        "        range_time = 0\r\n",
        "    elif temp_time >= 10 and temp_time < 14:\r\n",
        "        range_time = 1\r\n",
        "    elif temp_time >= 14 and temp_time < 18:\r\n",
        "        range_time = 2\r\n",
        "    else:\r\n",
        "        range_time = 3\r\n",
        "\r\n",
        "    time_range_array.append(range_time)    \r\n",
        "    \r\n",
        "new_data = pd.concat([new_data, pd.DataFrame(time_range_array)], axis=1)    \r\n",
        "\r\n",
        "# categorical data 처리\r\n",
        "for col in dataset.columns:\r\n",
        "    if col in cate_col:\r\n",
        "        if col == 'HKONT':\r\n",
        "            le = LabelEncoder()\r\n",
        "            le.fit(dataset.HKONT)\r\n",
        "            temp = pd.DataFrame(le.transform(dataset.HKONT))\r\n",
        "            label_label = pd.concat([label_label, temp], axis = 1)\r\n",
        "            \r\n",
        "            enc = OneHotEncoder(handle_unknown ='ignore')\r\n",
        "            enc.fit(np.array(dataset[col]).reshape(-1,1))\r\n",
        "            temp = pd.DataFrame(enc.transform(np.array(dataset[col]).reshape(-1,1)).toarray())\r\n",
        "            label_onehot = pd.concat([label_onehot, temp], axis = 1)\r\n",
        "        else:\r\n",
        "            enc = OneHotEncoder(handle_unknown ='ignore')\r\n",
        "            # col_name = enc.get_feature_names([col])\r\n",
        "            # encoded = enc.fit_transform(dataset[col])\r\n",
        "            # one_hot_encoded_frame = pd.DataFrame(encoded ,columns=col_name)\r\n",
        "            enc.fit(np.array(dataset[col]).reshape(-1,1))\r\n",
        "            temp = pd.DataFrame(enc.transform(np.array(dataset[col]).reshape(-1,1)).toarray())\r\n",
        "            new_data = pd.concat([new_data, temp], axis=1)"
      ],
      "outputs": [],
      "execution_count": 4,
      "metadata": {
        "jupyter": {
          "source_hidden": false,
          "outputs_hidden": false
        },
        "nteract": {
          "transient": {
            "deleting": false
          }
        },
        "gather": {
          "logged": 1632537695315
        }
      }
    },
    {
      "cell_type": "code",
      "source": [
        "new_col_index = np.array(range(0,len(new_data.T)),int)\r\n",
        "new_data.columns = new_col_index\r\n",
        "new_data"
      ],
      "outputs": [
        {
          "output_type": "execute_result",
          "execution_count": 5,
          "data": {
            "text/plain": "            0         1    2    3    4    5    6    7    8    9    ...  337  \\\n0      0.214297  0.236965    4    2    3  0.0  0.0  0.0  0.0  0.0  ...  0.0   \n1      2.449873  2.551062    6    0    1  0.0  0.0  0.0  0.0  0.0  ...  0.0   \n2      0.248730  0.272536    4    2    3  0.0  0.0  0.0  0.0  0.0  ...  0.0   \n3     -0.093402 -0.081406    0    1    1  0.0  0.0  0.0  0.0  0.0  ...  0.0   \n4      0.298192  0.324030    3    1    1  0.0  1.0  0.0  0.0  0.0  ...  0.0   \n...         ...       ...  ...  ...  ...  ...  ...  ...  ...  ...  ...  ...   \n37209 -0.289216 -0.283953    2    2    2  0.0  0.0  0.0  0.0  0.0  ...  0.0   \n37210 -0.301264 -0.296447    1    2    1  0.0  0.0  0.0  0.0  0.0  ...  0.0   \n37211 -0.298253 -0.293311    0    2    1  0.0  0.0  0.0  0.0  0.0  ...  0.0   \n37212 -0.301264 -0.296447    0    2    1  0.0  0.0  0.0  0.0  0.0  ...  0.0   \n37213 -0.295238 -0.290224    3    1    1  0.0  0.0  0.0  0.0  0.0  ...  0.0   \n\n       338  339  340  341  342  343  344  345  346  \n0      0.0  0.0  0.0  0.0  0.0  0.0  0.0  1.0  0.0  \n1      0.0  0.0  0.0  0.0  0.0  0.0  0.0  1.0  0.0  \n2      0.0  0.0  0.0  0.0  0.0  0.0  0.0  1.0  0.0  \n3      0.0  0.0  0.0  0.0  0.0  0.0  0.0  1.0  0.0  \n4      0.0  0.0  0.0  0.0  0.0  0.0  0.0  1.0  0.0  \n...    ...  ...  ...  ...  ...  ...  ...  ...  ...  \n37209  0.0  1.0  0.0  0.0  0.0  0.0  0.0  0.0  0.0  \n37210  0.0  1.0  0.0  0.0  0.0  0.0  0.0  0.0  0.0  \n37211  0.0  1.0  0.0  0.0  0.0  0.0  0.0  0.0  0.0  \n37212  0.0  1.0  0.0  0.0  0.0  0.0  0.0  0.0  0.0  \n37213  0.0  1.0  0.0  0.0  0.0  0.0  0.0  0.0  0.0  \n\n[37214 rows x 347 columns]",
            "text/html": "<div>\n<style scoped>\n    .dataframe tbody tr th:only-of-type {\n        vertical-align: middle;\n    }\n\n    .dataframe tbody tr th {\n        vertical-align: top;\n    }\n\n    .dataframe thead th {\n        text-align: right;\n    }\n</style>\n<table border=\"1\" class=\"dataframe\">\n  <thead>\n    <tr style=\"text-align: right;\">\n      <th></th>\n      <th>0</th>\n      <th>1</th>\n      <th>2</th>\n      <th>3</th>\n      <th>4</th>\n      <th>5</th>\n      <th>6</th>\n      <th>7</th>\n      <th>8</th>\n      <th>9</th>\n      <th>...</th>\n      <th>337</th>\n      <th>338</th>\n      <th>339</th>\n      <th>340</th>\n      <th>341</th>\n      <th>342</th>\n      <th>343</th>\n      <th>344</th>\n      <th>345</th>\n      <th>346</th>\n    </tr>\n  </thead>\n  <tbody>\n    <tr>\n      <th>0</th>\n      <td>0.214297</td>\n      <td>0.236965</td>\n      <td>4</td>\n      <td>2</td>\n      <td>3</td>\n      <td>0.0</td>\n      <td>0.0</td>\n      <td>0.0</td>\n      <td>0.0</td>\n      <td>0.0</td>\n      <td>...</td>\n      <td>0.0</td>\n      <td>0.0</td>\n      <td>0.0</td>\n      <td>0.0</td>\n      <td>0.0</td>\n      <td>0.0</td>\n      <td>0.0</td>\n      <td>0.0</td>\n      <td>1.0</td>\n      <td>0.0</td>\n    </tr>\n    <tr>\n      <th>1</th>\n      <td>2.449873</td>\n      <td>2.551062</td>\n      <td>6</td>\n      <td>0</td>\n      <td>1</td>\n      <td>0.0</td>\n      <td>0.0</td>\n      <td>0.0</td>\n      <td>0.0</td>\n      <td>0.0</td>\n      <td>...</td>\n      <td>0.0</td>\n      <td>0.0</td>\n      <td>0.0</td>\n      <td>0.0</td>\n      <td>0.0</td>\n      <td>0.0</td>\n      <td>0.0</td>\n      <td>0.0</td>\n      <td>1.0</td>\n      <td>0.0</td>\n    </tr>\n    <tr>\n      <th>2</th>\n      <td>0.248730</td>\n      <td>0.272536</td>\n      <td>4</td>\n      <td>2</td>\n      <td>3</td>\n      <td>0.0</td>\n      <td>0.0</td>\n      <td>0.0</td>\n      <td>0.0</td>\n      <td>0.0</td>\n      <td>...</td>\n      <td>0.0</td>\n      <td>0.0</td>\n      <td>0.0</td>\n      <td>0.0</td>\n      <td>0.0</td>\n      <td>0.0</td>\n      <td>0.0</td>\n      <td>0.0</td>\n      <td>1.0</td>\n      <td>0.0</td>\n    </tr>\n    <tr>\n      <th>3</th>\n      <td>-0.093402</td>\n      <td>-0.081406</td>\n      <td>0</td>\n      <td>1</td>\n      <td>1</td>\n      <td>0.0</td>\n      <td>0.0</td>\n      <td>0.0</td>\n      <td>0.0</td>\n      <td>0.0</td>\n      <td>...</td>\n      <td>0.0</td>\n      <td>0.0</td>\n      <td>0.0</td>\n      <td>0.0</td>\n      <td>0.0</td>\n      <td>0.0</td>\n      <td>0.0</td>\n      <td>0.0</td>\n      <td>1.0</td>\n      <td>0.0</td>\n    </tr>\n    <tr>\n      <th>4</th>\n      <td>0.298192</td>\n      <td>0.324030</td>\n      <td>3</td>\n      <td>1</td>\n      <td>1</td>\n      <td>0.0</td>\n      <td>1.0</td>\n      <td>0.0</td>\n      <td>0.0</td>\n      <td>0.0</td>\n      <td>...</td>\n      <td>0.0</td>\n      <td>0.0</td>\n      <td>0.0</td>\n      <td>0.0</td>\n      <td>0.0</td>\n      <td>0.0</td>\n      <td>0.0</td>\n      <td>0.0</td>\n      <td>1.0</td>\n      <td>0.0</td>\n    </tr>\n    <tr>\n      <th>...</th>\n      <td>...</td>\n      <td>...</td>\n      <td>...</td>\n      <td>...</td>\n      <td>...</td>\n      <td>...</td>\n      <td>...</td>\n      <td>...</td>\n      <td>...</td>\n      <td>...</td>\n      <td>...</td>\n      <td>...</td>\n      <td>...</td>\n      <td>...</td>\n      <td>...</td>\n      <td>...</td>\n      <td>...</td>\n      <td>...</td>\n      <td>...</td>\n      <td>...</td>\n      <td>...</td>\n    </tr>\n    <tr>\n      <th>37209</th>\n      <td>-0.289216</td>\n      <td>-0.283953</td>\n      <td>2</td>\n      <td>2</td>\n      <td>2</td>\n      <td>0.0</td>\n      <td>0.0</td>\n      <td>0.0</td>\n      <td>0.0</td>\n      <td>0.0</td>\n      <td>...</td>\n      <td>0.0</td>\n      <td>0.0</td>\n      <td>1.0</td>\n      <td>0.0</td>\n      <td>0.0</td>\n      <td>0.0</td>\n      <td>0.0</td>\n      <td>0.0</td>\n      <td>0.0</td>\n      <td>0.0</td>\n    </tr>\n    <tr>\n      <th>37210</th>\n      <td>-0.301264</td>\n      <td>-0.296447</td>\n      <td>1</td>\n      <td>2</td>\n      <td>1</td>\n      <td>0.0</td>\n      <td>0.0</td>\n      <td>0.0</td>\n      <td>0.0</td>\n      <td>0.0</td>\n      <td>...</td>\n      <td>0.0</td>\n      <td>0.0</td>\n      <td>1.0</td>\n      <td>0.0</td>\n      <td>0.0</td>\n      <td>0.0</td>\n      <td>0.0</td>\n      <td>0.0</td>\n      <td>0.0</td>\n      <td>0.0</td>\n    </tr>\n    <tr>\n      <th>37211</th>\n      <td>-0.298253</td>\n      <td>-0.293311</td>\n      <td>0</td>\n      <td>2</td>\n      <td>1</td>\n      <td>0.0</td>\n      <td>0.0</td>\n      <td>0.0</td>\n      <td>0.0</td>\n      <td>0.0</td>\n      <td>...</td>\n      <td>0.0</td>\n      <td>0.0</td>\n      <td>1.0</td>\n      <td>0.0</td>\n      <td>0.0</td>\n      <td>0.0</td>\n      <td>0.0</td>\n      <td>0.0</td>\n      <td>0.0</td>\n      <td>0.0</td>\n    </tr>\n    <tr>\n      <th>37212</th>\n      <td>-0.301264</td>\n      <td>-0.296447</td>\n      <td>0</td>\n      <td>2</td>\n      <td>1</td>\n      <td>0.0</td>\n      <td>0.0</td>\n      <td>0.0</td>\n      <td>0.0</td>\n      <td>0.0</td>\n      <td>...</td>\n      <td>0.0</td>\n      <td>0.0</td>\n      <td>1.0</td>\n      <td>0.0</td>\n      <td>0.0</td>\n      <td>0.0</td>\n      <td>0.0</td>\n      <td>0.0</td>\n      <td>0.0</td>\n      <td>0.0</td>\n    </tr>\n    <tr>\n      <th>37213</th>\n      <td>-0.295238</td>\n      <td>-0.290224</td>\n      <td>3</td>\n      <td>1</td>\n      <td>1</td>\n      <td>0.0</td>\n      <td>0.0</td>\n      <td>0.0</td>\n      <td>0.0</td>\n      <td>0.0</td>\n      <td>...</td>\n      <td>0.0</td>\n      <td>0.0</td>\n      <td>1.0</td>\n      <td>0.0</td>\n      <td>0.0</td>\n      <td>0.0</td>\n      <td>0.0</td>\n      <td>0.0</td>\n      <td>0.0</td>\n      <td>0.0</td>\n    </tr>\n  </tbody>\n</table>\n<p>37214 rows × 347 columns</p>\n</div>"
          },
          "metadata": {}
        }
      ],
      "execution_count": 5,
      "metadata": {
        "jupyter": {
          "source_hidden": false,
          "outputs_hidden": false
        },
        "nteract": {
          "transient": {
            "deleting": false
          }
        },
        "gather": {
          "logged": 1632537697579
        }
      }
    },
    {
      "cell_type": "code",
      "source": [
        "label_label"
      ],
      "outputs": [
        {
          "output_type": "execute_result",
          "execution_count": 6,
          "data": {
            "text/plain": "        0\n0       4\n1       4\n2       4\n3       1\n4       4\n...    ..\n37209  12\n37210  12\n37211  12\n37212  12\n37213  12\n\n[37214 rows x 1 columns]",
            "text/html": "<div>\n<style scoped>\n    .dataframe tbody tr th:only-of-type {\n        vertical-align: middle;\n    }\n\n    .dataframe tbody tr th {\n        vertical-align: top;\n    }\n\n    .dataframe thead th {\n        text-align: right;\n    }\n</style>\n<table border=\"1\" class=\"dataframe\">\n  <thead>\n    <tr style=\"text-align: right;\">\n      <th></th>\n      <th>0</th>\n    </tr>\n  </thead>\n  <tbody>\n    <tr>\n      <th>0</th>\n      <td>4</td>\n    </tr>\n    <tr>\n      <th>1</th>\n      <td>4</td>\n    </tr>\n    <tr>\n      <th>2</th>\n      <td>4</td>\n    </tr>\n    <tr>\n      <th>3</th>\n      <td>1</td>\n    </tr>\n    <tr>\n      <th>4</th>\n      <td>4</td>\n    </tr>\n    <tr>\n      <th>...</th>\n      <td>...</td>\n    </tr>\n    <tr>\n      <th>37209</th>\n      <td>12</td>\n    </tr>\n    <tr>\n      <th>37210</th>\n      <td>12</td>\n    </tr>\n    <tr>\n      <th>37211</th>\n      <td>12</td>\n    </tr>\n    <tr>\n      <th>37212</th>\n      <td>12</td>\n    </tr>\n    <tr>\n      <th>37213</th>\n      <td>12</td>\n    </tr>\n  </tbody>\n</table>\n<p>37214 rows × 1 columns</p>\n</div>"
          },
          "metadata": {}
        }
      ],
      "execution_count": 6,
      "metadata": {
        "jupyter": {
          "source_hidden": false,
          "outputs_hidden": false
        },
        "nteract": {
          "transient": {
            "deleting": false
          }
        },
        "gather": {
          "logged": 1632537699846
        }
      }
    },
    {
      "cell_type": "code",
      "source": [
        "data_set = pd.concat([new_data,label_label], axis=1)\r\n",
        "data_set"
      ],
      "outputs": [
        {
          "output_type": "execute_result",
          "execution_count": 7,
          "data": {
            "text/plain": "            0         1    2    3    4    5    6    7    8    9    ...  338  \\\n0      0.214297  0.236965    4    2    3  0.0  0.0  0.0  0.0  0.0  ...  0.0   \n1      2.449873  2.551062    6    0    1  0.0  0.0  0.0  0.0  0.0  ...  0.0   \n2      0.248730  0.272536    4    2    3  0.0  0.0  0.0  0.0  0.0  ...  0.0   \n3     -0.093402 -0.081406    0    1    1  0.0  0.0  0.0  0.0  0.0  ...  0.0   \n4      0.298192  0.324030    3    1    1  0.0  1.0  0.0  0.0  0.0  ...  0.0   \n...         ...       ...  ...  ...  ...  ...  ...  ...  ...  ...  ...  ...   \n37209 -0.289216 -0.283953    2    2    2  0.0  0.0  0.0  0.0  0.0  ...  0.0   \n37210 -0.301264 -0.296447    1    2    1  0.0  0.0  0.0  0.0  0.0  ...  0.0   \n37211 -0.298253 -0.293311    0    2    1  0.0  0.0  0.0  0.0  0.0  ...  0.0   \n37212 -0.301264 -0.296447    0    2    1  0.0  0.0  0.0  0.0  0.0  ...  0.0   \n37213 -0.295238 -0.290224    3    1    1  0.0  0.0  0.0  0.0  0.0  ...  0.0   \n\n       339  340  341  342  343  344  345  346  0    \n0      0.0  0.0  0.0  0.0  0.0  0.0  1.0  0.0    4  \n1      0.0  0.0  0.0  0.0  0.0  0.0  1.0  0.0    4  \n2      0.0  0.0  0.0  0.0  0.0  0.0  1.0  0.0    4  \n3      0.0  0.0  0.0  0.0  0.0  0.0  1.0  0.0    1  \n4      0.0  0.0  0.0  0.0  0.0  0.0  1.0  0.0    4  \n...    ...  ...  ...  ...  ...  ...  ...  ...  ...  \n37209  1.0  0.0  0.0  0.0  0.0  0.0  0.0  0.0   12  \n37210  1.0  0.0  0.0  0.0  0.0  0.0  0.0  0.0   12  \n37211  1.0  0.0  0.0  0.0  0.0  0.0  0.0  0.0   12  \n37212  1.0  0.0  0.0  0.0  0.0  0.0  0.0  0.0   12  \n37213  1.0  0.0  0.0  0.0  0.0  0.0  0.0  0.0   12  \n\n[37214 rows x 348 columns]",
            "text/html": "<div>\n<style scoped>\n    .dataframe tbody tr th:only-of-type {\n        vertical-align: middle;\n    }\n\n    .dataframe tbody tr th {\n        vertical-align: top;\n    }\n\n    .dataframe thead th {\n        text-align: right;\n    }\n</style>\n<table border=\"1\" class=\"dataframe\">\n  <thead>\n    <tr style=\"text-align: right;\">\n      <th></th>\n      <th>0</th>\n      <th>1</th>\n      <th>2</th>\n      <th>3</th>\n      <th>4</th>\n      <th>5</th>\n      <th>6</th>\n      <th>7</th>\n      <th>8</th>\n      <th>9</th>\n      <th>...</th>\n      <th>338</th>\n      <th>339</th>\n      <th>340</th>\n      <th>341</th>\n      <th>342</th>\n      <th>343</th>\n      <th>344</th>\n      <th>345</th>\n      <th>346</th>\n      <th>0</th>\n    </tr>\n  </thead>\n  <tbody>\n    <tr>\n      <th>0</th>\n      <td>0.214297</td>\n      <td>0.236965</td>\n      <td>4</td>\n      <td>2</td>\n      <td>3</td>\n      <td>0.0</td>\n      <td>0.0</td>\n      <td>0.0</td>\n      <td>0.0</td>\n      <td>0.0</td>\n      <td>...</td>\n      <td>0.0</td>\n      <td>0.0</td>\n      <td>0.0</td>\n      <td>0.0</td>\n      <td>0.0</td>\n      <td>0.0</td>\n      <td>0.0</td>\n      <td>1.0</td>\n      <td>0.0</td>\n      <td>4</td>\n    </tr>\n    <tr>\n      <th>1</th>\n      <td>2.449873</td>\n      <td>2.551062</td>\n      <td>6</td>\n      <td>0</td>\n      <td>1</td>\n      <td>0.0</td>\n      <td>0.0</td>\n      <td>0.0</td>\n      <td>0.0</td>\n      <td>0.0</td>\n      <td>...</td>\n      <td>0.0</td>\n      <td>0.0</td>\n      <td>0.0</td>\n      <td>0.0</td>\n      <td>0.0</td>\n      <td>0.0</td>\n      <td>0.0</td>\n      <td>1.0</td>\n      <td>0.0</td>\n      <td>4</td>\n    </tr>\n    <tr>\n      <th>2</th>\n      <td>0.248730</td>\n      <td>0.272536</td>\n      <td>4</td>\n      <td>2</td>\n      <td>3</td>\n      <td>0.0</td>\n      <td>0.0</td>\n      <td>0.0</td>\n      <td>0.0</td>\n      <td>0.0</td>\n      <td>...</td>\n      <td>0.0</td>\n      <td>0.0</td>\n      <td>0.0</td>\n      <td>0.0</td>\n      <td>0.0</td>\n      <td>0.0</td>\n      <td>0.0</td>\n      <td>1.0</td>\n      <td>0.0</td>\n      <td>4</td>\n    </tr>\n    <tr>\n      <th>3</th>\n      <td>-0.093402</td>\n      <td>-0.081406</td>\n      <td>0</td>\n      <td>1</td>\n      <td>1</td>\n      <td>0.0</td>\n      <td>0.0</td>\n      <td>0.0</td>\n      <td>0.0</td>\n      <td>0.0</td>\n      <td>...</td>\n      <td>0.0</td>\n      <td>0.0</td>\n      <td>0.0</td>\n      <td>0.0</td>\n      <td>0.0</td>\n      <td>0.0</td>\n      <td>0.0</td>\n      <td>1.0</td>\n      <td>0.0</td>\n      <td>1</td>\n    </tr>\n    <tr>\n      <th>4</th>\n      <td>0.298192</td>\n      <td>0.324030</td>\n      <td>3</td>\n      <td>1</td>\n      <td>1</td>\n      <td>0.0</td>\n      <td>1.0</td>\n      <td>0.0</td>\n      <td>0.0</td>\n      <td>0.0</td>\n      <td>...</td>\n      <td>0.0</td>\n      <td>0.0</td>\n      <td>0.0</td>\n      <td>0.0</td>\n      <td>0.0</td>\n      <td>0.0</td>\n      <td>0.0</td>\n      <td>1.0</td>\n      <td>0.0</td>\n      <td>4</td>\n    </tr>\n    <tr>\n      <th>...</th>\n      <td>...</td>\n      <td>...</td>\n      <td>...</td>\n      <td>...</td>\n      <td>...</td>\n      <td>...</td>\n      <td>...</td>\n      <td>...</td>\n      <td>...</td>\n      <td>...</td>\n      <td>...</td>\n      <td>...</td>\n      <td>...</td>\n      <td>...</td>\n      <td>...</td>\n      <td>...</td>\n      <td>...</td>\n      <td>...</td>\n      <td>...</td>\n      <td>...</td>\n      <td>...</td>\n    </tr>\n    <tr>\n      <th>37209</th>\n      <td>-0.289216</td>\n      <td>-0.283953</td>\n      <td>2</td>\n      <td>2</td>\n      <td>2</td>\n      <td>0.0</td>\n      <td>0.0</td>\n      <td>0.0</td>\n      <td>0.0</td>\n      <td>0.0</td>\n      <td>...</td>\n      <td>0.0</td>\n      <td>1.0</td>\n      <td>0.0</td>\n      <td>0.0</td>\n      <td>0.0</td>\n      <td>0.0</td>\n      <td>0.0</td>\n      <td>0.0</td>\n      <td>0.0</td>\n      <td>12</td>\n    </tr>\n    <tr>\n      <th>37210</th>\n      <td>-0.301264</td>\n      <td>-0.296447</td>\n      <td>1</td>\n      <td>2</td>\n      <td>1</td>\n      <td>0.0</td>\n      <td>0.0</td>\n      <td>0.0</td>\n      <td>0.0</td>\n      <td>0.0</td>\n      <td>...</td>\n      <td>0.0</td>\n      <td>1.0</td>\n      <td>0.0</td>\n      <td>0.0</td>\n      <td>0.0</td>\n      <td>0.0</td>\n      <td>0.0</td>\n      <td>0.0</td>\n      <td>0.0</td>\n      <td>12</td>\n    </tr>\n    <tr>\n      <th>37211</th>\n      <td>-0.298253</td>\n      <td>-0.293311</td>\n      <td>0</td>\n      <td>2</td>\n      <td>1</td>\n      <td>0.0</td>\n      <td>0.0</td>\n      <td>0.0</td>\n      <td>0.0</td>\n      <td>0.0</td>\n      <td>...</td>\n      <td>0.0</td>\n      <td>1.0</td>\n      <td>0.0</td>\n      <td>0.0</td>\n      <td>0.0</td>\n      <td>0.0</td>\n      <td>0.0</td>\n      <td>0.0</td>\n      <td>0.0</td>\n      <td>12</td>\n    </tr>\n    <tr>\n      <th>37212</th>\n      <td>-0.301264</td>\n      <td>-0.296447</td>\n      <td>0</td>\n      <td>2</td>\n      <td>1</td>\n      <td>0.0</td>\n      <td>0.0</td>\n      <td>0.0</td>\n      <td>0.0</td>\n      <td>0.0</td>\n      <td>...</td>\n      <td>0.0</td>\n      <td>1.0</td>\n      <td>0.0</td>\n      <td>0.0</td>\n      <td>0.0</td>\n      <td>0.0</td>\n      <td>0.0</td>\n      <td>0.0</td>\n      <td>0.0</td>\n      <td>12</td>\n    </tr>\n    <tr>\n      <th>37213</th>\n      <td>-0.295238</td>\n      <td>-0.290224</td>\n      <td>3</td>\n      <td>1</td>\n      <td>1</td>\n      <td>0.0</td>\n      <td>0.0</td>\n      <td>0.0</td>\n      <td>0.0</td>\n      <td>0.0</td>\n      <td>...</td>\n      <td>0.0</td>\n      <td>1.0</td>\n      <td>0.0</td>\n      <td>0.0</td>\n      <td>0.0</td>\n      <td>0.0</td>\n      <td>0.0</td>\n      <td>0.0</td>\n      <td>0.0</td>\n      <td>12</td>\n    </tr>\n  </tbody>\n</table>\n<p>37214 rows × 348 columns</p>\n</div>"
          },
          "metadata": {}
        }
      ],
      "execution_count": 7,
      "metadata": {
        "jupyter": {
          "source_hidden": false,
          "outputs_hidden": false
        },
        "nteract": {
          "transient": {
            "deleting": false
          }
        },
        "gather": {
          "logged": 1632537702137
        }
      }
    },
    {
      "cell_type": "code",
      "source": [
        "count = label_label.sum()\r\n",
        "label_num = label_label.value_counts()\r\n",
        "label_label.value_counts()"
      ],
      "outputs": [
        {
          "output_type": "execute_result",
          "execution_count": 9,
          "data": {
            "text/plain": "0     11764\n1      9477\n9      4855\n8      3864\n5      2005\n4      1429\n10     1169\n11      873\n12      686\n7       403\n6       381\n3       166\n2       142\ndtype: int64"
          },
          "metadata": {}
        }
      ],
      "execution_count": 9,
      "metadata": {
        "jupyter": {
          "source_hidden": false,
          "outputs_hidden": false
        },
        "nteract": {
          "transient": {
            "deleting": false
          }
        },
        "gather": {
          "logged": 1632551866756
        }
      }
    },
    {
      "cell_type": "code",
      "source": [
        "data_set.to_csv('./data/pre_data.csv', index=False)"
      ],
      "outputs": [],
      "execution_count": 8,
      "metadata": {
        "jupyter": {
          "source_hidden": false,
          "outputs_hidden": false
        },
        "nteract": {
          "transient": {
            "deleting": false
          }
        },
        "gather": {
          "logged": 1632537705570
        }
      }
    }
  ],
  "metadata": {
    "kernelspec": {
      "name": "python3-azureml",
      "language": "python",
      "display_name": "Python 3.6 - AzureML"
    },
    "language_info": {
      "name": "python",
      "version": "3.6.9",
      "mimetype": "text/x-python",
      "codemirror_mode": {
        "name": "ipython",
        "version": 3
      },
      "pygments_lexer": "ipython3",
      "nbconvert_exporter": "python",
      "file_extension": ".py"
    },
    "kernel_info": {
      "name": "python3-azureml"
    },
    "microsoft": {
      "host": {
        "AzureML": {
          "notebookHasBeenCompleted": true
        }
      }
    },
    "nteract": {
      "version": "nteract-front-end@1.0.0"
    }
  },
  "nbformat": 4,
  "nbformat_minor": 2
}